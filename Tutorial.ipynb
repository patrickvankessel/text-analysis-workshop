{
  "nbformat": 4,
  "nbformat_minor": 0,
  "metadata": {
    "colab": {
      "name": "Text Analytics Tutorial.ipynb",
      "provenance": [],
      "collapsed_sections": []
    },
    "kernelspec": {
      "name": "python3",
      "display_name": "Python 3"
    }
  },
  "cells": [
    {
      "cell_type": "markdown",
      "metadata": {
        "id": "DGrFue71kM4L"
      },
      "source": [
        "# Text Analytics Tutorial\n",
        "### Patrick van Kessel\n",
        "#### Senior Data Scientist, Pew Research Center"
      ]
    },
    {
      "cell_type": "markdown",
      "metadata": {
        "id": "4aoBDUSeyV2U"
      },
      "source": [
        "These materials are adapted from workshops I did in 2018 and 2019 for AAPOR, NYAAPOR, the World Bank, and IBM, with a lot of help from an old colleague of mine, Mika Jugovich. You can access a GitHub repository containing this notebook and the data sample here: https://github.com/patrickvankessel/text-analysis-workshop "
      ]
    },
    {
      "cell_type": "markdown",
      "metadata": {
        "id": "rL0gxOcrkM4Q"
      },
      "source": [
        "## Loading in the data"
      ]
    },
    {
      "cell_type": "markdown",
      "metadata": {
        "collapsed": true,
        "id": "3ds8U65OkM4S"
      },
      "source": [
        "We'll use a sample from the Kaggle Amazon Fine Food Reviews dataset. The full dataset can be found here: https://www.kaggle.com/snap/amazon-fine-food-reviews "
      ]
    },
    {
      "cell_type": "code",
      "metadata": {
        "id": "v6IsyAY1kM4T"
      },
      "source": [
        "import pandas as pd"
      ],
      "execution_count": 1,
      "outputs": []
    },
    {
      "cell_type": "code",
      "metadata": {
        "id": "A-7xdtl7kM4Z"
      },
      "source": [
        "sample = pd.read_csv(\"https://raw.githubusercontent.com/patrickvankessel/text-analysis-workshop/main/kaggle_sample.csv\")"
      ],
      "execution_count": 2,
      "outputs": []
    },
    {
      "cell_type": "code",
      "metadata": {
        "id": "ORYcAyfYkM4e",
        "outputId": "89ce40e2-31e3-4bc1-9299-c7635f14d6ed",
        "colab": {
          "base_uri": "https://localhost:8080/"
        }
      },
      "source": [
        "print(len(sample))"
      ],
      "execution_count": 3,
      "outputs": [
        {
          "output_type": "stream",
          "text": [
            "10000\n"
          ],
          "name": "stdout"
        }
      ]
    },
    {
      "cell_type": "markdown",
      "metadata": {
        "id": "xN6dyIikkM4i"
      },
      "source": [
        "Let's see what's in here."
      ]
    },
    {
      "cell_type": "code",
      "metadata": {
        "id": "VfCXzvdhkM4j",
        "outputId": "17ef6852-19d8-42bd-b6f0-c1bcc5d1666c",
        "colab": {
          "base_uri": "https://localhost:8080/",
          "height": 380
        }
      },
      "source": [
        "sample.head()"
      ],
      "execution_count": 4,
      "outputs": [
        {
          "output_type": "execute_result",
          "data": {
            "text/html": [
              "<div>\n",
              "<style scoped>\n",
              "    .dataframe tbody tr th:only-of-type {\n",
              "        vertical-align: middle;\n",
              "    }\n",
              "\n",
              "    .dataframe tbody tr th {\n",
              "        vertical-align: top;\n",
              "    }\n",
              "\n",
              "    .dataframe thead th {\n",
              "        text-align: right;\n",
              "    }\n",
              "</style>\n",
              "<table border=\"1\" class=\"dataframe\">\n",
              "  <thead>\n",
              "    <tr style=\"text-align: right;\">\n",
              "      <th></th>\n",
              "      <th>Unnamed: 0</th>\n",
              "      <th>index</th>\n",
              "      <th>Id</th>\n",
              "      <th>ProductId</th>\n",
              "      <th>UserId</th>\n",
              "      <th>ProfileName</th>\n",
              "      <th>HelpfulnessNumerator</th>\n",
              "      <th>HelpfulnessDenominator</th>\n",
              "      <th>Score</th>\n",
              "      <th>Time</th>\n",
              "      <th>Summary</th>\n",
              "      <th>Text</th>\n",
              "    </tr>\n",
              "  </thead>\n",
              "  <tbody>\n",
              "    <tr>\n",
              "      <th>0</th>\n",
              "      <td>0</td>\n",
              "      <td>467510</td>\n",
              "      <td>467511</td>\n",
              "      <td>B003WECB5S</td>\n",
              "      <td>A2G0LDLGXKQFYP</td>\n",
              "      <td>behrlekidsmom</td>\n",
              "      <td>2</td>\n",
              "      <td>2</td>\n",
              "      <td>3</td>\n",
              "      <td>1304640000</td>\n",
              "      <td>Holes in wrappers</td>\n",
              "      <td>The kids said the taste/flavor is fine but A L...</td>\n",
              "    </tr>\n",
              "    <tr>\n",
              "      <th>1</th>\n",
              "      <td>1</td>\n",
              "      <td>291775</td>\n",
              "      <td>291776</td>\n",
              "      <td>B000FVYUFA</td>\n",
              "      <td>A34O5D0QRGV29N</td>\n",
              "      <td>a Dallas reader</td>\n",
              "      <td>1</td>\n",
              "      <td>1</td>\n",
              "      <td>5</td>\n",
              "      <td>1188432000</td>\n",
              "      <td>Absolutely the best!</td>\n",
              "      <td>How can something this good be good for you to...</td>\n",
              "    </tr>\n",
              "    <tr>\n",
              "      <th>2</th>\n",
              "      <td>2</td>\n",
              "      <td>180629</td>\n",
              "      <td>180630</td>\n",
              "      <td>B000CQBZQK</td>\n",
              "      <td>A3ER3V2E06DH7D</td>\n",
              "      <td>A. K. Kaw \"AKK\"</td>\n",
              "      <td>0</td>\n",
              "      <td>1</td>\n",
              "      <td>5</td>\n",
              "      <td>1247529600</td>\n",
              "      <td>Tea meant for a late evening</td>\n",
              "      <td>I love Earl Grey Tea. I have tried Tazo, Twini...</td>\n",
              "    </tr>\n",
              "    <tr>\n",
              "      <th>3</th>\n",
              "      <td>3</td>\n",
              "      <td>412055</td>\n",
              "      <td>412056</td>\n",
              "      <td>B000CQC05K</td>\n",
              "      <td>A39Y02EJ310WJR</td>\n",
              "      <td>Tech Girl \"Wendy\"</td>\n",
              "      <td>2</td>\n",
              "      <td>2</td>\n",
              "      <td>5</td>\n",
              "      <td>1236729600</td>\n",
              "      <td>Full-flavored, delicious tea that you can drin...</td>\n",
              "      <td>This tea is so fruity and full-flavored that i...</td>\n",
              "    </tr>\n",
              "    <tr>\n",
              "      <th>4</th>\n",
              "      <td>4</td>\n",
              "      <td>139779</td>\n",
              "      <td>139780</td>\n",
              "      <td>B001BCXTGS</td>\n",
              "      <td>A1LC1NMRA1ZEDZ</td>\n",
              "      <td>M. Garcia</td>\n",
              "      <td>1</td>\n",
              "      <td>1</td>\n",
              "      <td>5</td>\n",
              "      <td>1244332800</td>\n",
              "      <td>My cat only eats this brand</td>\n",
              "      <td>My cat is not crazy about the snapper and shri...</td>\n",
              "    </tr>\n",
              "  </tbody>\n",
              "</table>\n",
              "</div>"
            ],
            "text/plain": [
              "   Unnamed: 0  ...                                               Text\n",
              "0           0  ...  The kids said the taste/flavor is fine but A L...\n",
              "1           1  ...  How can something this good be good for you to...\n",
              "2           2  ...  I love Earl Grey Tea. I have tried Tazo, Twini...\n",
              "3           3  ...  This tea is so fruity and full-flavored that i...\n",
              "4           4  ...  My cat is not crazy about the snapper and shri...\n",
              "\n",
              "[5 rows x 12 columns]"
            ]
          },
          "metadata": {
            "tags": []
          },
          "execution_count": 4
        }
      ]
    },
    {
      "cell_type": "markdown",
      "metadata": {
        "id": "tG-U3354kM4q"
      },
      "source": [
        "### Examine the data"
      ]
    },
    {
      "cell_type": "markdown",
      "metadata": {
        "id": "x155uh5BkM4r"
      },
      "source": [
        "Run the cell below a few times, let's take a look at our text and see what it looks like.  Always take a look at your raw data."
      ]
    },
    {
      "cell_type": "code",
      "metadata": {
        "id": "-MjqRrMNkM4s",
        "outputId": "bc6ded7c-19eb-421b-e40f-f6894171e601",
        "colab": {
          "base_uri": "https://localhost:8080/"
        }
      },
      "source": [
        "sample.sample(10)['Text'].values"
      ],
      "execution_count": 5,
      "outputs": [
        {
          "output_type": "execute_result",
          "data": {
            "text/plain": [
              "array([\"Maggie went nuts over these Instinct Raw Boost Bites, and she is a very finicky cat. Liddy was mildly interested, with a nibble here and a nibble there, and Frankie is just peculiar; she will only eat her dull kibble food. The list of ingredients on the box of these freeze dried treats looks mighty fine, with everything from chicken to ground flaxseeds and broccoli. Each treat is a 1 ½ inch round, with the slight consistency and look of a shortbread cookie, and has a fairly decent smell for the human nose. You can easily break them into 4 or more pieces for your cat.<br /><br />These round treats are for both dogs and cats, and are estimated as 1 or 2 for every 20 lbs. of weight. At the rate Maggie would like to eat these, she'd have to let out the buttons in her fur jacket. It's nice though that I've found something she likes, and that it's such a healthy treat. Thank you Nature's Variety for making a treat made of good, natural food for our fussy fur friends. Packaging is good, with a clear resealable bag inside the cardboard display box.\",\n",
              "       'Great bold taste, great price. I love string coffee and this one is great. I highly recommend it to someone who enjoys a strong cup of coffee, but needs decaf.',\n",
              "       \"My husbands favorite coffee. It isn't stocked locally in k cups. It's over priced here compared to other k cups, hence the 3 star review.\",\n",
              "       'Excellent recovery drink.  Very wholesome, very simple ingredient list without all the chemicals found in other products. The best recovery drink I have found',\n",
              "       \"Since we switched to Diamond Naturals (Beef & Rice Formula) my dogs' coats are healthier as well as their overall health. I feel much better knowing they are eating more natural ingredients and not all the bi-products and chemicals that are in so many other dog foods these days. One of my dogs had a skin allergy that flared up every fall...while I can't for certain blame it on the food...I am happy to say he was not bothered by any allergens this year. We are sticking with Diamond Naturals!\",\n",
              "       'I grew up at a time when we had the paper canister of Quaker Oatmeal that could/should have been stuck away for desperation use, such as in a bomb shelter. Although some oatmeal would hit the spot sometimes(especially at summer camp, with some butter, brown sugar, and raisins), I came to loath oatmeal so much that I don\\'t even like oatmeal cookies.<br />Imagine my surprise when on a road trip in Idaho and Montana, my best friend pulled a Tupperware container stuffed with various flavors of Quaker Instant Oatmeal out of her camping box, and when I groaned, she said \"Never leave home without it\". We pumped up some water, heated it on the Coleman, and voila! Had no milk, sigar, or anything, and it hit the spot, and for a quick and filling snack, it still does. Love the Brown Sugar, and most of the other varieties are good, too. I recently found a Cinnamon Roll flavor at Grocery Outlet that was killer.<br />So, bottom line, like my friend, I\\'m now in \"don\\'t leave home without it\" mode, and carry a quart Zip-loc of Quaker Instant Oatmeal in my glove box. You never know when you\\'ll need it.',\n",
              "       'Maldon salt is the best for seasoning proteins before saute or grilling.  It makes a really good finishing salt as well.',\n",
              "       'EXTRACT FREE!! I am not a fan of the metallic taste of extract based sauces, so this more natural approach is similar to the super-hot sauces I make at home. I usually use Bhut, Trinidad, and 7 pot, so this sauce is right on par with my home sauce. I am guessing somewhere in the realm of 200k SHU, sweat inducing, good mouthburn, but usable as a condiment and not only as a torture test. Recommended.',\n",
              "       'Hi, recently visited the USA where I found my favourite cereal Grapenuts, had eaten them before in UK and Singapore but now I live in Australia the only place I can get them is in Melbourne at a very inflated price, I live in Cairns, so I tried Amazon found them aaahhh but then not for sale out of the USA anyone please tell me where they will post me some grapenuts.  Please',\n",
              "       'Moderate size packaging, and not too sweet like other small juice packets. I feel good giving this to my kids.'],\n",
              "      dtype=object)"
            ]
          },
          "metadata": {
            "tags": []
          },
          "execution_count": 5
        }
      ]
    },
    {
      "cell_type": "markdown",
      "metadata": {
        "id": "iVp66VmjxShj"
      },
      "source": [
        "### Preprocess the text (clean it up!)"
      ]
    },
    {
      "cell_type": "markdown",
      "metadata": {
        "id": "6DCVsDzvkM4w"
      },
      "source": [
        "I don't know about you, but I noticed some junk in our data - HTML and URLs.  Let's clear that out first.  We'll also take this opportunity to lemmatize the words - to do that, we'll install NLTK's WordNet library."
      ]
    },
    {
      "cell_type": "code",
      "metadata": {
        "id": "VlbJ92eCwSAY",
        "outputId": "3e46fec8-86bb-4620-f234-f20f8b2b02e3",
        "colab": {
          "base_uri": "https://localhost:8080/"
        }
      },
      "source": [
        "import nltk\n",
        "nltk.download('wordnet')\n",
        "nltk.download('stopwords')"
      ],
      "execution_count": 6,
      "outputs": [
        {
          "output_type": "stream",
          "text": [
            "[nltk_data] Downloading package wordnet to /root/nltk_data...\n",
            "[nltk_data]   Package wordnet is already up-to-date!\n",
            "[nltk_data] Downloading package stopwords to /root/nltk_data...\n",
            "[nltk_data]   Package stopwords is already up-to-date!\n"
          ],
          "name": "stdout"
        },
        {
          "output_type": "execute_result",
          "data": {
            "text/plain": [
              "True"
            ]
          },
          "metadata": {
            "tags": []
          },
          "execution_count": 6
        }
      ]
    },
    {
      "cell_type": "code",
      "metadata": {
        "id": "B0FSjgoRkM4y"
      },
      "source": [
        "import re\n",
        "from nltk.stem import WordNetLemmatizer\n",
        "\n",
        "# Initialize a lemmatizer\n",
        "lemmatizer = WordNetLemmatizer()\n",
        "\n",
        "def clean_text(text):\n",
        "    # First we'll use regular expressions to strip out links and HTML tags\n",
        "    text = re.sub(r'http[a-zA-Z0-9\\&\\?\\=\\?\\/\\:\\.]+\\b', ' ', text)\n",
        "    text = re.sub(r'\\<[^\\<\\>]+\\>', ' ', text)\n",
        "    # Next, let's clear out all punctuation and replace it with whitespace\n",
        "    text = re.sub(r'\\W+', ' ', text) \n",
        "    # And clear out numbers\n",
        "    text = re.sub(r'[0-9]+', ' ', text)\n",
        "    # And then lowercase\n",
        "    text = text.lower()\n",
        "    # This isn't going to be perfect - ideally we expand contractions first\n",
        "    # And also deal with spelling corrections\n",
        "    # But this will work well enough for now\n",
        "    \n",
        "    # Next, let's split on whitespace and then lemmatize each token\n",
        "    tokens = text.split()\n",
        "    tokens = [lemmatizer.lemmatize(x) for x in tokens]\n",
        "    text = \" \".join(tokens)\n",
        "  \n",
        "    return text\n",
        "\n",
        "sample['Text'] = sample['Text'].map(clean_text)"
      ],
      "execution_count": 7,
      "outputs": []
    },
    {
      "cell_type": "markdown",
      "metadata": {
        "id": "gYRw8_IeZHUu"
      },
      "source": [
        "Let's see what our data look like now that we've processed the text"
      ]
    },
    {
      "cell_type": "code",
      "metadata": {
        "id": "EWHGd3sDZCuy",
        "outputId": "e3b19308-d34d-443e-e418-64bd1a6f79cd",
        "colab": {
          "base_uri": "https://localhost:8080/"
        }
      },
      "source": [
        "sample.sample(10)['Text'].values"
      ],
      "execution_count": 8,
      "outputs": [
        {
          "output_type": "execute_result",
          "data": {
            "text/plain": [
              "array(['i also tried my first taste sample at costco and it wa the pomegranate flavor so i bought a bottle and started using it daily month later hoodia offered a new flavor at costco and that wa the acai berry i liked that even better and many month went by continuing to consume my daily dose of hoodia fiber every morning a couple month ago i went to replenish my supply and to my dismay there wa nothing but nopal cactus flavor on the shelf at my local costco and even though the thought of cactus flavor did not sound appealing i purchased bottle and the next morning when i gulped my little shot down it almost came right back up the rest of the month i would plug my nose every time i had to swallow that swill and i would have some kind of food at the ready so i could immediately take a bite of it to wash away the nasty taste that wa left in my mouth from the cactus crap i have now stopped using the product and will not use it again until they offer the the acai berry or pomegranate flavor i really loved the product a it wa first introduced to me why did they have to ruin it',\n",
              "       'i usually stick to illy espresso though from time to time i try other brand and flavor this coffee ha a different aroma not heavily perfumed it s the taste though that i m very impressed with it taste just like a mug of hot chocolate it s different and i can see drinking this a a change especially nice during winter just the right amount of sweetness not overly sweet it s something different drinking coffee and savoring hot chocolate milk definitely recommended',\n",
              "       'this tea taste great i like it better than the coconut mango oolong the taste is more subtle not too sweet i drink about cup a day i ve heard there are many health benefit to oolong tea one that it help curb craving so far so good sometims i drink it plain and sometimes i put a little manuka honey',\n",
              "       'this coffee is strong and flavorful and is in no way bitter all in all one of my all time top three and i recommend it highly',\n",
              "       'my oldest daughter love mac cheese i wa trying to go organic on many key item so i picked this up from publix to try it it is now her favorite i checked price and bought the case from amazon much better price than publix and seems to always be in stock it come and go at publix try it so easy',\n",
              "       'my son love those fruit and veggie melt we have a handful for snack or while out and about shopping it s an easy and healthy alternative to the real thing we is of course preferred but not always possible',\n",
              "       'great deal convenient too much cheaper than walmart and i don t need to lug it home it appears on my doorstep cat hack up fewer hair ball and instead of adding petroleum product ie vaseline like most hairball formula which cause diarrhea and block vitamin absorption this one ha probiotic which make the digestive tract work better thus eliminating most of the hairball problem in a healthy way nothing can prevent of hairball hacking it s just something all cat do once in awhile a great deal on a great product plus free shipping when you order over a certain amount coo bay sandra',\n",
              "       'wow no word can describe the actual experience of this ceylon supreme flavor from dilmah tea i have tried other dilmah tea also and actually do not know which one to rate the best but this is top in the line i just love it the flavor the texture and nice and delicate touch it splendid an excellent product to be savored again and again dilmah ceylon supreme tea traditional unblended tea count individually foil wrapped teabags pack of',\n",
              "       'if you like dirty martini s than you ll love dirty sue we ve tried all the others and nothing can compare we were lucky to be given a bottle and we were hooked the only downside is that we can t readily find it in our area however amazon wa fast inexpensive and we got at a time so we are sure to not run out before we can order more and qualified for free shipping thanks eric from dirty sue',\n",
              "       'i have enjoyed this cider i like it when i have come inside from feeding the bird or shoveling snow it warms me up it ha a sweet but tangy taste that i like the rating is because of the price'],\n",
              "      dtype=object)"
            ]
          },
          "metadata": {
            "tags": []
          },
          "execution_count": 8
        }
      ]
    },
    {
      "cell_type": "markdown",
      "metadata": {
        "id": "_Tce9LW5kM47"
      },
      "source": [
        "## TF-IDF Vectorization (Feature Extraction)"
      ]
    },
    {
      "cell_type": "markdown",
      "metadata": {
        "id": "5M6xvlbgxCAg"
      },
      "source": [
        "Just to be safe, let's add some additional words to a standard list of English stop words."
      ]
    },
    {
      "cell_type": "code",
      "metadata": {
        "id": "upq30VrJxJeo",
        "outputId": "670b7575-b12e-42b9-c69b-1d3ec150d68e",
        "colab": {
          "base_uri": "https://localhost:8080/"
        }
      },
      "source": [
        "from sklearn.feature_extraction import stop_words as sklearn_stop_words\n",
        "# Grab standard English stopwords\n",
        "stop_words = set(sklearn_stop_words.ENGLISH_STOP_WORDS)\n",
        "# And add in some of our own (\"like\" is really common and doesn't tell us much)\n",
        "stop_words = stop_words.union(set([\n",
        "    \"www\", \"http\", \"https\", \"br\", \"amazon\", \"href\", \"wa\", \"ha\",\n",
        "    \"like\", \"just\",\n",
        "]))"
      ],
      "execution_count": 9,
      "outputs": [
        {
          "output_type": "stream",
          "text": [
            "/usr/local/lib/python3.6/dist-packages/sklearn/utils/deprecation.py:144: FutureWarning: The sklearn.feature_extraction.stop_words module is  deprecated in version 0.22 and will be removed in version 0.24. The corresponding classes / functions should instead be imported from sklearn.feature_extraction.text. Anything that cannot be imported from sklearn.feature_extraction.text is now part of the private API.\n",
            "  warnings.warn(message, FutureWarning)\n"
          ],
          "name": "stderr"
        }
      ]
    },
    {
      "cell_type": "markdown",
      "metadata": {
        "id": "g5GxTc_lkM48"
      },
      "source": [
        "Okay, now let's tokenize our text and turn it into numbers"
      ]
    },
    {
      "cell_type": "code",
      "metadata": {
        "id": "xN7oPF2wkM49"
      },
      "source": [
        "from sklearn.feature_extraction.text import TfidfVectorizer, CountVectorizer\n",
        "\n",
        "tfidf_vectorizer = TfidfVectorizer(\n",
        "    max_df=0.9, # Remove any words that appear in more than 90% of our documents\n",
        "    min_df=5, # Remove words that appear in fewer than 5 document\n",
        "    ngram_range=(1, 1), # Only extract unigrams\n",
        "    stop_words=stop_words, # Remove stopwords\n",
        "    max_features=2500 # Grab the 2500 most common words (based on above constraints)\n",
        ")\n",
        "tfidf = tfidf_vectorizer.fit_transform(sample['Text'])\n",
        "ngrams = tfidf_vectorizer.get_feature_names()"
      ],
      "execution_count": 10,
      "outputs": []
    },
    {
      "cell_type": "code",
      "metadata": {
        "id": "nL16ucdPkM5G",
        "outputId": "8c9905f7-8202-4f65-a57b-4ac99a6aa8f3",
        "colab": {
          "base_uri": "https://localhost:8080/"
        }
      },
      "source": [
        "tfidf.todense()"
      ],
      "execution_count": 11,
      "outputs": [
        {
          "output_type": "execute_result",
          "data": {
            "text/plain": [
              "matrix([[0., 0., 0., ..., 0., 0., 0.],\n",
              "        [0., 0., 0., ..., 0., 0., 0.],\n",
              "        [0., 0., 0., ..., 0., 0., 0.],\n",
              "        ...,\n",
              "        [0., 0., 0., ..., 0., 0., 0.],\n",
              "        [0., 0., 0., ..., 0., 0., 0.],\n",
              "        [0., 0., 0., ..., 0., 0., 0.]])"
            ]
          },
          "metadata": {
            "tags": []
          },
          "execution_count": 11
        }
      ]
    },
    {
      "cell_type": "markdown",
      "metadata": {
        "id": "awan15pukM5Q"
      },
      "source": [
        "Because vocabulary spaces are really big, by default we work with sparse matrices.  We can expand the sparse matrix with `.todense()` and compute sums like a normal dataframe.  Let's check out the top 20 words."
      ]
    },
    {
      "cell_type": "code",
      "metadata": {
        "id": "qHplDa57qVpx"
      },
      "source": [
        "ngram_df = pd.DataFrame(tfidf.todense(), columns=ngrams) "
      ],
      "execution_count": 12,
      "outputs": []
    },
    {
      "cell_type": "code",
      "metadata": {
        "id": "M_05t4vOqVjQ",
        "outputId": "7b96baa1-e1c0-46ce-d4a3-6baf392833f0",
        "colab": {
          "base_uri": "https://localhost:8080/",
          "height": 244
        }
      },
      "source": [
        "ngram_df.head()"
      ],
      "execution_count": 13,
      "outputs": [
        {
          "output_type": "execute_result",
          "data": {
            "text/html": [
              "<div>\n",
              "<style scoped>\n",
              "    .dataframe tbody tr th:only-of-type {\n",
              "        vertical-align: middle;\n",
              "    }\n",
              "\n",
              "    .dataframe tbody tr th {\n",
              "        vertical-align: top;\n",
              "    }\n",
              "\n",
              "    .dataframe thead th {\n",
              "        text-align: right;\n",
              "    }\n",
              "</style>\n",
              "<table border=\"1\" class=\"dataframe\">\n",
              "  <thead>\n",
              "    <tr style=\"text-align: right;\">\n",
              "      <th></th>\n",
              "      <th>able</th>\n",
              "      <th>absolute</th>\n",
              "      <th>absolutely</th>\n",
              "      <th>acceptable</th>\n",
              "      <th>according</th>\n",
              "      <th>account</th>\n",
              "      <th>acid</th>\n",
              "      <th>acidic</th>\n",
              "      <th>acidity</th>\n",
              "      <th>acquired</th>\n",
              "      <th>act</th>\n",
              "      <th>active</th>\n",
              "      <th>actual</th>\n",
              "      <th>actually</th>\n",
              "      <th>add</th>\n",
              "      <th>added</th>\n",
              "      <th>addicted</th>\n",
              "      <th>addicting</th>\n",
              "      <th>addictive</th>\n",
              "      <th>adding</th>\n",
              "      <th>addition</th>\n",
              "      <th>additional</th>\n",
              "      <th>additive</th>\n",
              "      <th>adequate</th>\n",
              "      <th>admit</th>\n",
              "      <th>adopted</th>\n",
              "      <th>adult</th>\n",
              "      <th>advantage</th>\n",
              "      <th>advertised</th>\n",
              "      <th>advertising</th>\n",
              "      <th>advice</th>\n",
              "      <th>affect</th>\n",
              "      <th>afford</th>\n",
              "      <th>affordable</th>\n",
              "      <th>afraid</th>\n",
              "      <th>afternoon</th>\n",
              "      <th>aftertaste</th>\n",
              "      <th>agave</th>\n",
              "      <th>age</th>\n",
              "      <th>aged</th>\n",
              "      <th>...</th>\n",
              "      <th>word</th>\n",
              "      <th>work</th>\n",
              "      <th>worked</th>\n",
              "      <th>worker</th>\n",
              "      <th>working</th>\n",
              "      <th>workout</th>\n",
              "      <th>world</th>\n",
              "      <th>worried</th>\n",
              "      <th>worry</th>\n",
              "      <th>worse</th>\n",
              "      <th>worst</th>\n",
              "      <th>worth</th>\n",
              "      <th>wouldn</th>\n",
              "      <th>wow</th>\n",
              "      <th>wrap</th>\n",
              "      <th>wrapped</th>\n",
              "      <th>wrapper</th>\n",
              "      <th>write</th>\n",
              "      <th>writing</th>\n",
              "      <th>written</th>\n",
              "      <th>wrong</th>\n",
              "      <th>wrote</th>\n",
              "      <th>xylitol</th>\n",
              "      <th>yeah</th>\n",
              "      <th>year</th>\n",
              "      <th>yeast</th>\n",
              "      <th>yellow</th>\n",
              "      <th>yes</th>\n",
              "      <th>yesterday</th>\n",
              "      <th>yogurt</th>\n",
              "      <th>young</th>\n",
              "      <th>yr</th>\n",
              "      <th>yuck</th>\n",
              "      <th>yum</th>\n",
              "      <th>yummy</th>\n",
              "      <th>zero</th>\n",
              "      <th>zevia</th>\n",
              "      <th>zico</th>\n",
              "      <th>zip</th>\n",
              "      <th>zuke</th>\n",
              "    </tr>\n",
              "  </thead>\n",
              "  <tbody>\n",
              "    <tr>\n",
              "      <th>0</th>\n",
              "      <td>0.0</td>\n",
              "      <td>0.0</td>\n",
              "      <td>0.0</td>\n",
              "      <td>0.0</td>\n",
              "      <td>0.0</td>\n",
              "      <td>0.0</td>\n",
              "      <td>0.0</td>\n",
              "      <td>0.0</td>\n",
              "      <td>0.0</td>\n",
              "      <td>0.0</td>\n",
              "      <td>0.0</td>\n",
              "      <td>0.0</td>\n",
              "      <td>0.0</td>\n",
              "      <td>0.0</td>\n",
              "      <td>0.0</td>\n",
              "      <td>0.0</td>\n",
              "      <td>0.0</td>\n",
              "      <td>0.0</td>\n",
              "      <td>0.0</td>\n",
              "      <td>0.0</td>\n",
              "      <td>0.0</td>\n",
              "      <td>0.0</td>\n",
              "      <td>0.0</td>\n",
              "      <td>0.0</td>\n",
              "      <td>0.0</td>\n",
              "      <td>0.0</td>\n",
              "      <td>0.0</td>\n",
              "      <td>0.0</td>\n",
              "      <td>0.0</td>\n",
              "      <td>0.0</td>\n",
              "      <td>0.0</td>\n",
              "      <td>0.0</td>\n",
              "      <td>0.0</td>\n",
              "      <td>0.0</td>\n",
              "      <td>0.0</td>\n",
              "      <td>0.0</td>\n",
              "      <td>0.0</td>\n",
              "      <td>0.0</td>\n",
              "      <td>0.0</td>\n",
              "      <td>0.0</td>\n",
              "      <td>...</td>\n",
              "      <td>0.0</td>\n",
              "      <td>0.0</td>\n",
              "      <td>0.0</td>\n",
              "      <td>0.0</td>\n",
              "      <td>0.0</td>\n",
              "      <td>0.0</td>\n",
              "      <td>0.0</td>\n",
              "      <td>0.0</td>\n",
              "      <td>0.00000</td>\n",
              "      <td>0.0</td>\n",
              "      <td>0.0</td>\n",
              "      <td>0.0</td>\n",
              "      <td>0.0</td>\n",
              "      <td>0.0</td>\n",
              "      <td>0.381701</td>\n",
              "      <td>0.0</td>\n",
              "      <td>0.0</td>\n",
              "      <td>0.0</td>\n",
              "      <td>0.0</td>\n",
              "      <td>0.0</td>\n",
              "      <td>0.0</td>\n",
              "      <td>0.0</td>\n",
              "      <td>0.0</td>\n",
              "      <td>0.0</td>\n",
              "      <td>0.0</td>\n",
              "      <td>0.0</td>\n",
              "      <td>0.000000</td>\n",
              "      <td>0.0</td>\n",
              "      <td>0.0</td>\n",
              "      <td>0.0</td>\n",
              "      <td>0.0</td>\n",
              "      <td>0.0</td>\n",
              "      <td>0.0</td>\n",
              "      <td>0.0</td>\n",
              "      <td>0.0</td>\n",
              "      <td>0.0</td>\n",
              "      <td>0.0</td>\n",
              "      <td>0.0</td>\n",
              "      <td>0.0</td>\n",
              "      <td>0.0</td>\n",
              "    </tr>\n",
              "    <tr>\n",
              "      <th>1</th>\n",
              "      <td>0.0</td>\n",
              "      <td>0.0</td>\n",
              "      <td>0.0</td>\n",
              "      <td>0.0</td>\n",
              "      <td>0.0</td>\n",
              "      <td>0.0</td>\n",
              "      <td>0.0</td>\n",
              "      <td>0.0</td>\n",
              "      <td>0.0</td>\n",
              "      <td>0.0</td>\n",
              "      <td>0.0</td>\n",
              "      <td>0.0</td>\n",
              "      <td>0.0</td>\n",
              "      <td>0.0</td>\n",
              "      <td>0.0</td>\n",
              "      <td>0.0</td>\n",
              "      <td>0.0</td>\n",
              "      <td>0.0</td>\n",
              "      <td>0.0</td>\n",
              "      <td>0.0</td>\n",
              "      <td>0.0</td>\n",
              "      <td>0.0</td>\n",
              "      <td>0.0</td>\n",
              "      <td>0.0</td>\n",
              "      <td>0.0</td>\n",
              "      <td>0.0</td>\n",
              "      <td>0.0</td>\n",
              "      <td>0.0</td>\n",
              "      <td>0.0</td>\n",
              "      <td>0.0</td>\n",
              "      <td>0.0</td>\n",
              "      <td>0.0</td>\n",
              "      <td>0.0</td>\n",
              "      <td>0.0</td>\n",
              "      <td>0.0</td>\n",
              "      <td>0.0</td>\n",
              "      <td>0.0</td>\n",
              "      <td>0.0</td>\n",
              "      <td>0.0</td>\n",
              "      <td>0.0</td>\n",
              "      <td>...</td>\n",
              "      <td>0.0</td>\n",
              "      <td>0.0</td>\n",
              "      <td>0.0</td>\n",
              "      <td>0.0</td>\n",
              "      <td>0.0</td>\n",
              "      <td>0.0</td>\n",
              "      <td>0.0</td>\n",
              "      <td>0.0</td>\n",
              "      <td>0.00000</td>\n",
              "      <td>0.0</td>\n",
              "      <td>0.0</td>\n",
              "      <td>0.0</td>\n",
              "      <td>0.0</td>\n",
              "      <td>0.0</td>\n",
              "      <td>0.000000</td>\n",
              "      <td>0.0</td>\n",
              "      <td>0.0</td>\n",
              "      <td>0.0</td>\n",
              "      <td>0.0</td>\n",
              "      <td>0.0</td>\n",
              "      <td>0.0</td>\n",
              "      <td>0.0</td>\n",
              "      <td>0.0</td>\n",
              "      <td>0.0</td>\n",
              "      <td>0.0</td>\n",
              "      <td>0.0</td>\n",
              "      <td>0.000000</td>\n",
              "      <td>0.0</td>\n",
              "      <td>0.0</td>\n",
              "      <td>0.0</td>\n",
              "      <td>0.0</td>\n",
              "      <td>0.0</td>\n",
              "      <td>0.0</td>\n",
              "      <td>0.0</td>\n",
              "      <td>0.0</td>\n",
              "      <td>0.0</td>\n",
              "      <td>0.0</td>\n",
              "      <td>0.0</td>\n",
              "      <td>0.0</td>\n",
              "      <td>0.0</td>\n",
              "    </tr>\n",
              "    <tr>\n",
              "      <th>2</th>\n",
              "      <td>0.0</td>\n",
              "      <td>0.0</td>\n",
              "      <td>0.0</td>\n",
              "      <td>0.0</td>\n",
              "      <td>0.0</td>\n",
              "      <td>0.0</td>\n",
              "      <td>0.0</td>\n",
              "      <td>0.0</td>\n",
              "      <td>0.0</td>\n",
              "      <td>0.0</td>\n",
              "      <td>0.0</td>\n",
              "      <td>0.0</td>\n",
              "      <td>0.0</td>\n",
              "      <td>0.0</td>\n",
              "      <td>0.0</td>\n",
              "      <td>0.0</td>\n",
              "      <td>0.0</td>\n",
              "      <td>0.0</td>\n",
              "      <td>0.0</td>\n",
              "      <td>0.0</td>\n",
              "      <td>0.0</td>\n",
              "      <td>0.0</td>\n",
              "      <td>0.0</td>\n",
              "      <td>0.0</td>\n",
              "      <td>0.0</td>\n",
              "      <td>0.0</td>\n",
              "      <td>0.0</td>\n",
              "      <td>0.0</td>\n",
              "      <td>0.0</td>\n",
              "      <td>0.0</td>\n",
              "      <td>0.0</td>\n",
              "      <td>0.0</td>\n",
              "      <td>0.0</td>\n",
              "      <td>0.0</td>\n",
              "      <td>0.0</td>\n",
              "      <td>0.0</td>\n",
              "      <td>0.0</td>\n",
              "      <td>0.0</td>\n",
              "      <td>0.0</td>\n",
              "      <td>0.0</td>\n",
              "      <td>...</td>\n",
              "      <td>0.0</td>\n",
              "      <td>0.0</td>\n",
              "      <td>0.0</td>\n",
              "      <td>0.0</td>\n",
              "      <td>0.0</td>\n",
              "      <td>0.0</td>\n",
              "      <td>0.0</td>\n",
              "      <td>0.0</td>\n",
              "      <td>0.17755</td>\n",
              "      <td>0.0</td>\n",
              "      <td>0.0</td>\n",
              "      <td>0.0</td>\n",
              "      <td>0.0</td>\n",
              "      <td>0.0</td>\n",
              "      <td>0.000000</td>\n",
              "      <td>0.0</td>\n",
              "      <td>0.0</td>\n",
              "      <td>0.0</td>\n",
              "      <td>0.0</td>\n",
              "      <td>0.0</td>\n",
              "      <td>0.0</td>\n",
              "      <td>0.0</td>\n",
              "      <td>0.0</td>\n",
              "      <td>0.0</td>\n",
              "      <td>0.0</td>\n",
              "      <td>0.0</td>\n",
              "      <td>0.000000</td>\n",
              "      <td>0.0</td>\n",
              "      <td>0.0</td>\n",
              "      <td>0.0</td>\n",
              "      <td>0.0</td>\n",
              "      <td>0.0</td>\n",
              "      <td>0.0</td>\n",
              "      <td>0.0</td>\n",
              "      <td>0.0</td>\n",
              "      <td>0.0</td>\n",
              "      <td>0.0</td>\n",
              "      <td>0.0</td>\n",
              "      <td>0.0</td>\n",
              "      <td>0.0</td>\n",
              "    </tr>\n",
              "    <tr>\n",
              "      <th>3</th>\n",
              "      <td>0.0</td>\n",
              "      <td>0.0</td>\n",
              "      <td>0.0</td>\n",
              "      <td>0.0</td>\n",
              "      <td>0.0</td>\n",
              "      <td>0.0</td>\n",
              "      <td>0.0</td>\n",
              "      <td>0.0</td>\n",
              "      <td>0.0</td>\n",
              "      <td>0.0</td>\n",
              "      <td>0.0</td>\n",
              "      <td>0.0</td>\n",
              "      <td>0.0</td>\n",
              "      <td>0.0</td>\n",
              "      <td>0.0</td>\n",
              "      <td>0.0</td>\n",
              "      <td>0.0</td>\n",
              "      <td>0.0</td>\n",
              "      <td>0.0</td>\n",
              "      <td>0.0</td>\n",
              "      <td>0.0</td>\n",
              "      <td>0.0</td>\n",
              "      <td>0.0</td>\n",
              "      <td>0.0</td>\n",
              "      <td>0.0</td>\n",
              "      <td>0.0</td>\n",
              "      <td>0.0</td>\n",
              "      <td>0.0</td>\n",
              "      <td>0.0</td>\n",
              "      <td>0.0</td>\n",
              "      <td>0.0</td>\n",
              "      <td>0.0</td>\n",
              "      <td>0.0</td>\n",
              "      <td>0.0</td>\n",
              "      <td>0.0</td>\n",
              "      <td>0.0</td>\n",
              "      <td>0.0</td>\n",
              "      <td>0.0</td>\n",
              "      <td>0.0</td>\n",
              "      <td>0.0</td>\n",
              "      <td>...</td>\n",
              "      <td>0.0</td>\n",
              "      <td>0.0</td>\n",
              "      <td>0.0</td>\n",
              "      <td>0.0</td>\n",
              "      <td>0.0</td>\n",
              "      <td>0.0</td>\n",
              "      <td>0.0</td>\n",
              "      <td>0.0</td>\n",
              "      <td>0.00000</td>\n",
              "      <td>0.0</td>\n",
              "      <td>0.0</td>\n",
              "      <td>0.0</td>\n",
              "      <td>0.0</td>\n",
              "      <td>0.0</td>\n",
              "      <td>0.000000</td>\n",
              "      <td>0.0</td>\n",
              "      <td>0.0</td>\n",
              "      <td>0.0</td>\n",
              "      <td>0.0</td>\n",
              "      <td>0.0</td>\n",
              "      <td>0.0</td>\n",
              "      <td>0.0</td>\n",
              "      <td>0.0</td>\n",
              "      <td>0.0</td>\n",
              "      <td>0.0</td>\n",
              "      <td>0.0</td>\n",
              "      <td>0.000000</td>\n",
              "      <td>0.0</td>\n",
              "      <td>0.0</td>\n",
              "      <td>0.0</td>\n",
              "      <td>0.0</td>\n",
              "      <td>0.0</td>\n",
              "      <td>0.0</td>\n",
              "      <td>0.0</td>\n",
              "      <td>0.0</td>\n",
              "      <td>0.0</td>\n",
              "      <td>0.0</td>\n",
              "      <td>0.0</td>\n",
              "      <td>0.0</td>\n",
              "      <td>0.0</td>\n",
              "    </tr>\n",
              "    <tr>\n",
              "      <th>4</th>\n",
              "      <td>0.0</td>\n",
              "      <td>0.0</td>\n",
              "      <td>0.0</td>\n",
              "      <td>0.0</td>\n",
              "      <td>0.0</td>\n",
              "      <td>0.0</td>\n",
              "      <td>0.0</td>\n",
              "      <td>0.0</td>\n",
              "      <td>0.0</td>\n",
              "      <td>0.0</td>\n",
              "      <td>0.0</td>\n",
              "      <td>0.0</td>\n",
              "      <td>0.0</td>\n",
              "      <td>0.0</td>\n",
              "      <td>0.0</td>\n",
              "      <td>0.0</td>\n",
              "      <td>0.0</td>\n",
              "      <td>0.0</td>\n",
              "      <td>0.0</td>\n",
              "      <td>0.0</td>\n",
              "      <td>0.0</td>\n",
              "      <td>0.0</td>\n",
              "      <td>0.0</td>\n",
              "      <td>0.0</td>\n",
              "      <td>0.0</td>\n",
              "      <td>0.0</td>\n",
              "      <td>0.0</td>\n",
              "      <td>0.0</td>\n",
              "      <td>0.0</td>\n",
              "      <td>0.0</td>\n",
              "      <td>0.0</td>\n",
              "      <td>0.0</td>\n",
              "      <td>0.0</td>\n",
              "      <td>0.0</td>\n",
              "      <td>0.0</td>\n",
              "      <td>0.0</td>\n",
              "      <td>0.0</td>\n",
              "      <td>0.0</td>\n",
              "      <td>0.0</td>\n",
              "      <td>0.0</td>\n",
              "      <td>...</td>\n",
              "      <td>0.0</td>\n",
              "      <td>0.0</td>\n",
              "      <td>0.0</td>\n",
              "      <td>0.0</td>\n",
              "      <td>0.0</td>\n",
              "      <td>0.0</td>\n",
              "      <td>0.0</td>\n",
              "      <td>0.0</td>\n",
              "      <td>0.00000</td>\n",
              "      <td>0.0</td>\n",
              "      <td>0.0</td>\n",
              "      <td>0.0</td>\n",
              "      <td>0.0</td>\n",
              "      <td>0.0</td>\n",
              "      <td>0.000000</td>\n",
              "      <td>0.0</td>\n",
              "      <td>0.0</td>\n",
              "      <td>0.0</td>\n",
              "      <td>0.0</td>\n",
              "      <td>0.0</td>\n",
              "      <td>0.0</td>\n",
              "      <td>0.0</td>\n",
              "      <td>0.0</td>\n",
              "      <td>0.0</td>\n",
              "      <td>0.0</td>\n",
              "      <td>0.0</td>\n",
              "      <td>0.351519</td>\n",
              "      <td>0.0</td>\n",
              "      <td>0.0</td>\n",
              "      <td>0.0</td>\n",
              "      <td>0.0</td>\n",
              "      <td>0.0</td>\n",
              "      <td>0.0</td>\n",
              "      <td>0.0</td>\n",
              "      <td>0.0</td>\n",
              "      <td>0.0</td>\n",
              "      <td>0.0</td>\n",
              "      <td>0.0</td>\n",
              "      <td>0.0</td>\n",
              "      <td>0.0</td>\n",
              "    </tr>\n",
              "  </tbody>\n",
              "</table>\n",
              "<p>5 rows × 2500 columns</p>\n",
              "</div>"
            ],
            "text/plain": [
              "   able  absolute  absolutely  acceptable  ...  zevia  zico  zip  zuke\n",
              "0   0.0       0.0         0.0         0.0  ...    0.0   0.0  0.0   0.0\n",
              "1   0.0       0.0         0.0         0.0  ...    0.0   0.0  0.0   0.0\n",
              "2   0.0       0.0         0.0         0.0  ...    0.0   0.0  0.0   0.0\n",
              "3   0.0       0.0         0.0         0.0  ...    0.0   0.0  0.0   0.0\n",
              "4   0.0       0.0         0.0         0.0  ...    0.0   0.0  0.0   0.0\n",
              "\n",
              "[5 rows x 2500 columns]"
            ]
          },
          "metadata": {
            "tags": []
          },
          "execution_count": 13
        }
      ]
    },
    {
      "cell_type": "code",
      "metadata": {
        "id": "gg3Lj0jDkM5S",
        "outputId": "e0a8eae9-018f-4439-8e4b-1fdab389b0a1",
        "colab": {
          "base_uri": "https://localhost:8080/"
        }
      },
      "source": [
        "ngram_df.sum().sort_values(ascending=False)[:20]"
      ],
      "execution_count": 14,
      "outputs": [
        {
          "output_type": "execute_result",
          "data": {
            "text/plain": [
              "coffee     316.980063\n",
              "good       308.366277\n",
              "taste      306.032427\n",
              "great      296.119454\n",
              "tea        286.896549\n",
              "love       283.353920\n",
              "product    281.596502\n",
              "flavor     278.327891\n",
              "food       213.044387\n",
              "dog        205.873217\n",
              "really     178.868613\n",
              "price      175.593576\n",
              "time       165.726609\n",
              "make       165.491621\n",
              "cup        165.306249\n",
              "buy        163.445115\n",
              "best       162.054263\n",
              "bag        154.881833\n",
              "ve         151.040409\n",
              "don        145.061858\n",
              "dtype: float64"
            ]
          },
          "metadata": {
            "tags": []
          },
          "execution_count": 14
        }
      ]
    },
    {
      "cell_type": "markdown",
      "metadata": {
        "id": "5fsUkrLquMED"
      },
      "source": [
        "### Word co-occurrences"
      ]
    },
    {
      "cell_type": "markdown",
      "metadata": {
        "id": "tsnZGNi9fPtR"
      },
      "source": [
        "We can also explore word co-occurrences - the words that most frequently appear together in the same documents"
      ]
    },
    {
      "cell_type": "code",
      "metadata": {
        "id": "illxhoksfJ4u",
        "outputId": "b2e705f8-3990-45ea-fddd-45627d2bc813",
        "colab": {
          "base_uri": "https://localhost:8080/",
          "height": 244
        }
      },
      "source": [
        "count_vectorizer = CountVectorizer(\n",
        "    max_df=.9, \n",
        "    min_df=50, \n",
        "    stop_words=stop_words, \n",
        "    binary=True\n",
        ")\n",
        "counts = count_vectorizer.fit_transform(sample['Text'])\n",
        "ngrams = count_vectorizer.get_feature_names()\n",
        "cooccurs = (counts.T * counts) \n",
        "cooccurs.setdiag(0)\n",
        "cooccurs = pd.DataFrame(cooccurs.todense(), index=ngrams, columns=ngrams)\n",
        "cooccurs.head()"
      ],
      "execution_count": 15,
      "outputs": [
        {
          "output_type": "execute_result",
          "data": {
            "text/html": [
              "<div>\n",
              "<style scoped>\n",
              "    .dataframe tbody tr th:only-of-type {\n",
              "        vertical-align: middle;\n",
              "    }\n",
              "\n",
              "    .dataframe tbody tr th {\n",
              "        vertical-align: top;\n",
              "    }\n",
              "\n",
              "    .dataframe thead th {\n",
              "        text-align: right;\n",
              "    }\n",
              "</style>\n",
              "<table border=\"1\" class=\"dataframe\">\n",
              "  <thead>\n",
              "    <tr style=\"text-align: right;\">\n",
              "      <th></th>\n",
              "      <th>able</th>\n",
              "      <th>absolutely</th>\n",
              "      <th>acid</th>\n",
              "      <th>actual</th>\n",
              "      <th>actually</th>\n",
              "      <th>add</th>\n",
              "      <th>added</th>\n",
              "      <th>addicted</th>\n",
              "      <th>adding</th>\n",
              "      <th>addition</th>\n",
              "      <th>admit</th>\n",
              "      <th>adult</th>\n",
              "      <th>afternoon</th>\n",
              "      <th>aftertaste</th>\n",
              "      <th>age</th>\n",
              "      <th>ago</th>\n",
              "      <th>agree</th>\n",
              "      <th>air</th>\n",
              "      <th>allergic</th>\n",
              "      <th>allergy</th>\n",
              "      <th>almond</th>\n",
              "      <th>alot</th>\n",
              "      <th>alternative</th>\n",
              "      <th>amazing</th>\n",
              "      <th>american</th>\n",
              "      <th>animal</th>\n",
              "      <th>anymore</th>\n",
              "      <th>apple</th>\n",
              "      <th>appreciate</th>\n",
              "      <th>area</th>\n",
              "      <th>aren</th>\n",
              "      <th>aroma</th>\n",
              "      <th>arrived</th>\n",
              "      <th>artificial</th>\n",
              "      <th>ask</th>\n",
              "      <th>asked</th>\n",
              "      <th>ate</th>\n",
              "      <th>available</th>\n",
              "      <th>average</th>\n",
              "      <th>avoid</th>\n",
              "      <th>...</th>\n",
              "      <th>wasn</th>\n",
              "      <th>waste</th>\n",
              "      <th>watch</th>\n",
              "      <th>water</th>\n",
              "      <th>way</th>\n",
              "      <th>weak</th>\n",
              "      <th>website</th>\n",
              "      <th>week</th>\n",
              "      <th>weight</th>\n",
              "      <th>weird</th>\n",
              "      <th>wellness</th>\n",
              "      <th>went</th>\n",
              "      <th>wet</th>\n",
              "      <th>wheat</th>\n",
              "      <th>white</th>\n",
              "      <th>wife</th>\n",
              "      <th>wine</th>\n",
              "      <th>winter</th>\n",
              "      <th>wish</th>\n",
              "      <th>won</th>\n",
              "      <th>wonder</th>\n",
              "      <th>wonderful</th>\n",
              "      <th>word</th>\n",
              "      <th>work</th>\n",
              "      <th>worked</th>\n",
              "      <th>working</th>\n",
              "      <th>world</th>\n",
              "      <th>worry</th>\n",
              "      <th>worse</th>\n",
              "      <th>worst</th>\n",
              "      <th>worth</th>\n",
              "      <th>wouldn</th>\n",
              "      <th>wow</th>\n",
              "      <th>wrapped</th>\n",
              "      <th>wrong</th>\n",
              "      <th>year</th>\n",
              "      <th>yes</th>\n",
              "      <th>yogurt</th>\n",
              "      <th>yum</th>\n",
              "      <th>yummy</th>\n",
              "    </tr>\n",
              "  </thead>\n",
              "  <tbody>\n",
              "    <tr>\n",
              "      <th>able</th>\n",
              "      <td>0</td>\n",
              "      <td>10</td>\n",
              "      <td>4</td>\n",
              "      <td>3</td>\n",
              "      <td>30</td>\n",
              "      <td>19</td>\n",
              "      <td>16</td>\n",
              "      <td>1</td>\n",
              "      <td>8</td>\n",
              "      <td>0</td>\n",
              "      <td>10</td>\n",
              "      <td>3</td>\n",
              "      <td>1</td>\n",
              "      <td>4</td>\n",
              "      <td>6</td>\n",
              "      <td>14</td>\n",
              "      <td>5</td>\n",
              "      <td>2</td>\n",
              "      <td>1</td>\n",
              "      <td>8</td>\n",
              "      <td>2</td>\n",
              "      <td>2</td>\n",
              "      <td>6</td>\n",
              "      <td>9</td>\n",
              "      <td>6</td>\n",
              "      <td>4</td>\n",
              "      <td>8</td>\n",
              "      <td>3</td>\n",
              "      <td>6</td>\n",
              "      <td>7</td>\n",
              "      <td>8</td>\n",
              "      <td>4</td>\n",
              "      <td>17</td>\n",
              "      <td>7</td>\n",
              "      <td>3</td>\n",
              "      <td>2</td>\n",
              "      <td>2</td>\n",
              "      <td>17</td>\n",
              "      <td>1</td>\n",
              "      <td>4</td>\n",
              "      <td>...</td>\n",
              "      <td>22</td>\n",
              "      <td>3</td>\n",
              "      <td>6</td>\n",
              "      <td>24</td>\n",
              "      <td>47</td>\n",
              "      <td>5</td>\n",
              "      <td>9</td>\n",
              "      <td>23</td>\n",
              "      <td>9</td>\n",
              "      <td>4</td>\n",
              "      <td>2</td>\n",
              "      <td>13</td>\n",
              "      <td>7</td>\n",
              "      <td>10</td>\n",
              "      <td>11</td>\n",
              "      <td>8</td>\n",
              "      <td>1</td>\n",
              "      <td>5</td>\n",
              "      <td>12</td>\n",
              "      <td>21</td>\n",
              "      <td>2</td>\n",
              "      <td>17</td>\n",
              "      <td>5</td>\n",
              "      <td>29</td>\n",
              "      <td>4</td>\n",
              "      <td>3</td>\n",
              "      <td>8</td>\n",
              "      <td>5</td>\n",
              "      <td>2</td>\n",
              "      <td>3</td>\n",
              "      <td>19</td>\n",
              "      <td>13</td>\n",
              "      <td>2</td>\n",
              "      <td>5</td>\n",
              "      <td>5</td>\n",
              "      <td>50</td>\n",
              "      <td>11</td>\n",
              "      <td>3</td>\n",
              "      <td>4</td>\n",
              "      <td>2</td>\n",
              "    </tr>\n",
              "    <tr>\n",
              "      <th>absolutely</th>\n",
              "      <td>10</td>\n",
              "      <td>0</td>\n",
              "      <td>2</td>\n",
              "      <td>6</td>\n",
              "      <td>23</td>\n",
              "      <td>17</td>\n",
              "      <td>11</td>\n",
              "      <td>2</td>\n",
              "      <td>4</td>\n",
              "      <td>5</td>\n",
              "      <td>5</td>\n",
              "      <td>4</td>\n",
              "      <td>1</td>\n",
              "      <td>4</td>\n",
              "      <td>2</td>\n",
              "      <td>8</td>\n",
              "      <td>4</td>\n",
              "      <td>2</td>\n",
              "      <td>3</td>\n",
              "      <td>5</td>\n",
              "      <td>10</td>\n",
              "      <td>3</td>\n",
              "      <td>8</td>\n",
              "      <td>15</td>\n",
              "      <td>1</td>\n",
              "      <td>2</td>\n",
              "      <td>4</td>\n",
              "      <td>6</td>\n",
              "      <td>2</td>\n",
              "      <td>3</td>\n",
              "      <td>4</td>\n",
              "      <td>4</td>\n",
              "      <td>9</td>\n",
              "      <td>5</td>\n",
              "      <td>0</td>\n",
              "      <td>1</td>\n",
              "      <td>3</td>\n",
              "      <td>6</td>\n",
              "      <td>3</td>\n",
              "      <td>4</td>\n",
              "      <td>...</td>\n",
              "      <td>5</td>\n",
              "      <td>3</td>\n",
              "      <td>1</td>\n",
              "      <td>17</td>\n",
              "      <td>26</td>\n",
              "      <td>0</td>\n",
              "      <td>7</td>\n",
              "      <td>10</td>\n",
              "      <td>11</td>\n",
              "      <td>4</td>\n",
              "      <td>8</td>\n",
              "      <td>13</td>\n",
              "      <td>3</td>\n",
              "      <td>5</td>\n",
              "      <td>4</td>\n",
              "      <td>3</td>\n",
              "      <td>0</td>\n",
              "      <td>4</td>\n",
              "      <td>5</td>\n",
              "      <td>12</td>\n",
              "      <td>0</td>\n",
              "      <td>20</td>\n",
              "      <td>6</td>\n",
              "      <td>20</td>\n",
              "      <td>2</td>\n",
              "      <td>4</td>\n",
              "      <td>1</td>\n",
              "      <td>3</td>\n",
              "      <td>4</td>\n",
              "      <td>4</td>\n",
              "      <td>19</td>\n",
              "      <td>8</td>\n",
              "      <td>4</td>\n",
              "      <td>2</td>\n",
              "      <td>4</td>\n",
              "      <td>28</td>\n",
              "      <td>10</td>\n",
              "      <td>4</td>\n",
              "      <td>1</td>\n",
              "      <td>6</td>\n",
              "    </tr>\n",
              "    <tr>\n",
              "      <th>acid</th>\n",
              "      <td>4</td>\n",
              "      <td>2</td>\n",
              "      <td>0</td>\n",
              "      <td>1</td>\n",
              "      <td>10</td>\n",
              "      <td>12</td>\n",
              "      <td>8</td>\n",
              "      <td>2</td>\n",
              "      <td>2</td>\n",
              "      <td>1</td>\n",
              "      <td>3</td>\n",
              "      <td>6</td>\n",
              "      <td>1</td>\n",
              "      <td>3</td>\n",
              "      <td>0</td>\n",
              "      <td>2</td>\n",
              "      <td>3</td>\n",
              "      <td>0</td>\n",
              "      <td>0</td>\n",
              "      <td>1</td>\n",
              "      <td>1</td>\n",
              "      <td>2</td>\n",
              "      <td>2</td>\n",
              "      <td>4</td>\n",
              "      <td>2</td>\n",
              "      <td>4</td>\n",
              "      <td>4</td>\n",
              "      <td>3</td>\n",
              "      <td>1</td>\n",
              "      <td>2</td>\n",
              "      <td>2</td>\n",
              "      <td>6</td>\n",
              "      <td>0</td>\n",
              "      <td>7</td>\n",
              "      <td>2</td>\n",
              "      <td>2</td>\n",
              "      <td>1</td>\n",
              "      <td>4</td>\n",
              "      <td>4</td>\n",
              "      <td>3</td>\n",
              "      <td>...</td>\n",
              "      <td>6</td>\n",
              "      <td>0</td>\n",
              "      <td>1</td>\n",
              "      <td>18</td>\n",
              "      <td>14</td>\n",
              "      <td>3</td>\n",
              "      <td>3</td>\n",
              "      <td>6</td>\n",
              "      <td>2</td>\n",
              "      <td>0</td>\n",
              "      <td>1</td>\n",
              "      <td>5</td>\n",
              "      <td>1</td>\n",
              "      <td>7</td>\n",
              "      <td>9</td>\n",
              "      <td>0</td>\n",
              "      <td>3</td>\n",
              "      <td>0</td>\n",
              "      <td>7</td>\n",
              "      <td>3</td>\n",
              "      <td>0</td>\n",
              "      <td>9</td>\n",
              "      <td>2</td>\n",
              "      <td>6</td>\n",
              "      <td>3</td>\n",
              "      <td>3</td>\n",
              "      <td>5</td>\n",
              "      <td>4</td>\n",
              "      <td>2</td>\n",
              "      <td>2</td>\n",
              "      <td>10</td>\n",
              "      <td>5</td>\n",
              "      <td>3</td>\n",
              "      <td>0</td>\n",
              "      <td>1</td>\n",
              "      <td>9</td>\n",
              "      <td>4</td>\n",
              "      <td>2</td>\n",
              "      <td>1</td>\n",
              "      <td>2</td>\n",
              "    </tr>\n",
              "    <tr>\n",
              "      <th>actual</th>\n",
              "      <td>3</td>\n",
              "      <td>6</td>\n",
              "      <td>1</td>\n",
              "      <td>0</td>\n",
              "      <td>14</td>\n",
              "      <td>8</td>\n",
              "      <td>9</td>\n",
              "      <td>0</td>\n",
              "      <td>3</td>\n",
              "      <td>4</td>\n",
              "      <td>2</td>\n",
              "      <td>0</td>\n",
              "      <td>1</td>\n",
              "      <td>2</td>\n",
              "      <td>0</td>\n",
              "      <td>5</td>\n",
              "      <td>0</td>\n",
              "      <td>3</td>\n",
              "      <td>0</td>\n",
              "      <td>1</td>\n",
              "      <td>2</td>\n",
              "      <td>0</td>\n",
              "      <td>2</td>\n",
              "      <td>1</td>\n",
              "      <td>1</td>\n",
              "      <td>0</td>\n",
              "      <td>1</td>\n",
              "      <td>2</td>\n",
              "      <td>1</td>\n",
              "      <td>0</td>\n",
              "      <td>3</td>\n",
              "      <td>1</td>\n",
              "      <td>4</td>\n",
              "      <td>8</td>\n",
              "      <td>1</td>\n",
              "      <td>1</td>\n",
              "      <td>2</td>\n",
              "      <td>6</td>\n",
              "      <td>3</td>\n",
              "      <td>2</td>\n",
              "      <td>...</td>\n",
              "      <td>5</td>\n",
              "      <td>0</td>\n",
              "      <td>1</td>\n",
              "      <td>10</td>\n",
              "      <td>19</td>\n",
              "      <td>1</td>\n",
              "      <td>3</td>\n",
              "      <td>6</td>\n",
              "      <td>4</td>\n",
              "      <td>0</td>\n",
              "      <td>4</td>\n",
              "      <td>3</td>\n",
              "      <td>1</td>\n",
              "      <td>4</td>\n",
              "      <td>4</td>\n",
              "      <td>2</td>\n",
              "      <td>1</td>\n",
              "      <td>0</td>\n",
              "      <td>2</td>\n",
              "      <td>3</td>\n",
              "      <td>0</td>\n",
              "      <td>4</td>\n",
              "      <td>1</td>\n",
              "      <td>10</td>\n",
              "      <td>1</td>\n",
              "      <td>0</td>\n",
              "      <td>0</td>\n",
              "      <td>1</td>\n",
              "      <td>5</td>\n",
              "      <td>0</td>\n",
              "      <td>1</td>\n",
              "      <td>8</td>\n",
              "      <td>1</td>\n",
              "      <td>3</td>\n",
              "      <td>1</td>\n",
              "      <td>9</td>\n",
              "      <td>1</td>\n",
              "      <td>2</td>\n",
              "      <td>1</td>\n",
              "      <td>1</td>\n",
              "    </tr>\n",
              "    <tr>\n",
              "      <th>actually</th>\n",
              "      <td>30</td>\n",
              "      <td>23</td>\n",
              "      <td>10</td>\n",
              "      <td>14</td>\n",
              "      <td>0</td>\n",
              "      <td>33</td>\n",
              "      <td>33</td>\n",
              "      <td>4</td>\n",
              "      <td>17</td>\n",
              "      <td>7</td>\n",
              "      <td>8</td>\n",
              "      <td>3</td>\n",
              "      <td>3</td>\n",
              "      <td>12</td>\n",
              "      <td>4</td>\n",
              "      <td>13</td>\n",
              "      <td>8</td>\n",
              "      <td>7</td>\n",
              "      <td>4</td>\n",
              "      <td>10</td>\n",
              "      <td>12</td>\n",
              "      <td>1</td>\n",
              "      <td>13</td>\n",
              "      <td>13</td>\n",
              "      <td>3</td>\n",
              "      <td>4</td>\n",
              "      <td>11</td>\n",
              "      <td>12</td>\n",
              "      <td>8</td>\n",
              "      <td>8</td>\n",
              "      <td>11</td>\n",
              "      <td>8</td>\n",
              "      <td>20</td>\n",
              "      <td>22</td>\n",
              "      <td>6</td>\n",
              "      <td>5</td>\n",
              "      <td>12</td>\n",
              "      <td>17</td>\n",
              "      <td>10</td>\n",
              "      <td>9</td>\n",
              "      <td>...</td>\n",
              "      <td>25</td>\n",
              "      <td>10</td>\n",
              "      <td>1</td>\n",
              "      <td>48</td>\n",
              "      <td>54</td>\n",
              "      <td>7</td>\n",
              "      <td>8</td>\n",
              "      <td>29</td>\n",
              "      <td>16</td>\n",
              "      <td>9</td>\n",
              "      <td>12</td>\n",
              "      <td>27</td>\n",
              "      <td>11</td>\n",
              "      <td>14</td>\n",
              "      <td>11</td>\n",
              "      <td>5</td>\n",
              "      <td>2</td>\n",
              "      <td>5</td>\n",
              "      <td>10</td>\n",
              "      <td>26</td>\n",
              "      <td>9</td>\n",
              "      <td>16</td>\n",
              "      <td>6</td>\n",
              "      <td>43</td>\n",
              "      <td>8</td>\n",
              "      <td>12</td>\n",
              "      <td>11</td>\n",
              "      <td>4</td>\n",
              "      <td>10</td>\n",
              "      <td>7</td>\n",
              "      <td>23</td>\n",
              "      <td>23</td>\n",
              "      <td>6</td>\n",
              "      <td>9</td>\n",
              "      <td>12</td>\n",
              "      <td>51</td>\n",
              "      <td>17</td>\n",
              "      <td>7</td>\n",
              "      <td>0</td>\n",
              "      <td>12</td>\n",
              "    </tr>\n",
              "  </tbody>\n",
              "</table>\n",
              "<p>5 rows × 1026 columns</p>\n",
              "</div>"
            ],
            "text/plain": [
              "            able  absolutely  acid  actual  ...  yes  yogurt  yum  yummy\n",
              "able           0          10     4       3  ...   11       3    4      2\n",
              "absolutely    10           0     2       6  ...   10       4    1      6\n",
              "acid           4           2     0       1  ...    4       2    1      2\n",
              "actual         3           6     1       0  ...    1       2    1      1\n",
              "actually      30          23    10      14  ...   17       7    0     12\n",
              "\n",
              "[5 rows x 1026 columns]"
            ]
          },
          "metadata": {
            "tags": []
          },
          "execution_count": 15
        }
      ]
    },
    {
      "cell_type": "code",
      "metadata": {
        "id": "xzHKOdT7sSNP",
        "outputId": "a3f8a7fa-35d9-439c-9304-7e50e5c02730",
        "colab": {
          "base_uri": "https://localhost:8080/",
          "height": 841
        }
      },
      "source": [
        "melted = pd.melt(\n",
        "    cooccurs.reset_index().rename(columns={\"index\": \"ngram1\"}), \n",
        "    id_vars=[\"ngram1\"], var_name=\"ngram2\", value_name=\"count\"\n",
        ").drop_duplicates()\n",
        "melted['pair'] = melted.apply(lambda x: \", \".join(sorted([x['ngram1'], x['ngram2']])), axis=1)\n",
        "melted[['pair', 'count']].drop_duplicates().sort_values(\"count\", ascending=False).head(25)"
      ],
      "execution_count": 16,
      "outputs": [
        {
          "output_type": "stream",
          "text": [
            "/usr/local/lib/python3.6/dist-packages/IPython/core/interactiveshell.py:2882: FutureWarning: This dataframe has a column name that matches the 'value_name' column name of the resultiing Dataframe. In the future this will raise an error, please set the 'value_name' parameter of DataFrame.melt to a unique name.\n",
            "  exec(code_obj, self.user_global_ns, self.user_ns)\n"
          ],
          "name": "stderr"
        },
        {
          "output_type": "execute_result",
          "data": {
            "text/html": [
              "<div>\n",
              "<style scoped>\n",
              "    .dataframe tbody tr th:only-of-type {\n",
              "        vertical-align: middle;\n",
              "    }\n",
              "\n",
              "    .dataframe tbody tr th {\n",
              "        vertical-align: top;\n",
              "    }\n",
              "\n",
              "    .dataframe thead th {\n",
              "        text-align: right;\n",
              "    }\n",
              "</style>\n",
              "<table border=\"1\" class=\"dataframe\">\n",
              "  <thead>\n",
              "    <tr style=\"text-align: right;\">\n",
              "      <th></th>\n",
              "      <th>pair</th>\n",
              "      <th>count</th>\n",
              "    </tr>\n",
              "  </thead>\n",
              "  <tbody>\n",
              "    <tr>\n",
              "      <th>386678</th>\n",
              "      <td>good, taste</td>\n",
              "      <td>1000</td>\n",
              "    </tr>\n",
              "    <tr>\n",
              "      <th>395912</th>\n",
              "      <td>great, taste</td>\n",
              "      <td>796</td>\n",
              "    </tr>\n",
              "    <tr>\n",
              "      <th>347690</th>\n",
              "      <td>flavor, taste</td>\n",
              "      <td>788</td>\n",
              "    </tr>\n",
              "    <tr>\n",
              "      <th>347164</th>\n",
              "      <td>flavor, good</td>\n",
              "      <td>756</td>\n",
              "    </tr>\n",
              "    <tr>\n",
              "      <th>386476</th>\n",
              "      <td>good, product</td>\n",
              "      <td>656</td>\n",
              "    </tr>\n",
              "    <tr>\n",
              "      <th>719102</th>\n",
              "      <td>product, taste</td>\n",
              "      <td>640</td>\n",
              "    </tr>\n",
              "    <tr>\n",
              "      <th>395528</th>\n",
              "      <td>great, love</td>\n",
              "      <td>635</td>\n",
              "    </tr>\n",
              "    <tr>\n",
              "      <th>347173</th>\n",
              "      <td>flavor, great</td>\n",
              "      <td>632</td>\n",
              "    </tr>\n",
              "    <tr>\n",
              "      <th>395710</th>\n",
              "      <td>great, product</td>\n",
              "      <td>610</td>\n",
              "    </tr>\n",
              "    <tr>\n",
              "      <th>386161</th>\n",
              "      <td>good, great</td>\n",
              "      <td>599</td>\n",
              "    </tr>\n",
              "    <tr>\n",
              "      <th>386501</th>\n",
              "      <td>good, really</td>\n",
              "      <td>596</td>\n",
              "    </tr>\n",
              "    <tr>\n",
              "      <th>532370</th>\n",
              "      <td>love, taste</td>\n",
              "      <td>588</td>\n",
              "    </tr>\n",
              "    <tr>\n",
              "      <th>744752</th>\n",
              "      <td>really, taste</td>\n",
              "      <td>567</td>\n",
              "    </tr>\n",
              "    <tr>\n",
              "      <th>386294</th>\n",
              "      <td>good, love</td>\n",
              "      <td>560</td>\n",
              "    </tr>\n",
              "    <tr>\n",
              "      <th>347306</th>\n",
              "      <td>flavor, love</td>\n",
              "      <td>556</td>\n",
              "    </tr>\n",
              "    <tr>\n",
              "      <th>386303</th>\n",
              "      <td>good, make</td>\n",
              "      <td>526</td>\n",
              "    </tr>\n",
              "    <tr>\n",
              "      <th>266636</th>\n",
              "      <td>don, taste</td>\n",
              "      <td>517</td>\n",
              "    </tr>\n",
              "    <tr>\n",
              "      <th>541604</th>\n",
              "      <td>make, taste</td>\n",
              "      <td>517</td>\n",
              "    </tr>\n",
              "    <tr>\n",
              "      <th>532168</th>\n",
              "      <td>love, product</td>\n",
              "      <td>501</td>\n",
              "    </tr>\n",
              "    <tr>\n",
              "      <th>347488</th>\n",
              "      <td>flavor, product</td>\n",
              "      <td>472</td>\n",
              "    </tr>\n",
              "    <tr>\n",
              "      <th>386748</th>\n",
              "      <td>good, ve</td>\n",
              "      <td>470</td>\n",
              "    </tr>\n",
              "    <tr>\n",
              "      <th>266110</th>\n",
              "      <td>don, good</td>\n",
              "      <td>469</td>\n",
              "    </tr>\n",
              "    <tr>\n",
              "      <th>173614</th>\n",
              "      <td>coffee, cup</td>\n",
              "      <td>467</td>\n",
              "    </tr>\n",
              "    <tr>\n",
              "      <th>174296</th>\n",
              "      <td>coffee, taste</td>\n",
              "      <td>452</td>\n",
              "    </tr>\n",
              "    <tr>\n",
              "      <th>354346</th>\n",
              "      <td>food, good</td>\n",
              "      <td>452</td>\n",
              "    </tr>\n",
              "  </tbody>\n",
              "</table>\n",
              "</div>"
            ],
            "text/plain": [
              "                   pair  count\n",
              "386678      good, taste   1000\n",
              "395912     great, taste    796\n",
              "347690    flavor, taste    788\n",
              "347164     flavor, good    756\n",
              "386476    good, product    656\n",
              "719102   product, taste    640\n",
              "395528      great, love    635\n",
              "347173    flavor, great    632\n",
              "395710   great, product    610\n",
              "386161      good, great    599\n",
              "386501     good, really    596\n",
              "532370      love, taste    588\n",
              "744752    really, taste    567\n",
              "386294       good, love    560\n",
              "347306     flavor, love    556\n",
              "386303       good, make    526\n",
              "266636       don, taste    517\n",
              "541604      make, taste    517\n",
              "532168    love, product    501\n",
              "347488  flavor, product    472\n",
              "386748         good, ve    470\n",
              "266110        don, good    469\n",
              "173614      coffee, cup    467\n",
              "174296    coffee, taste    452\n",
              "354346       food, good    452"
            ]
          },
          "metadata": {
            "tags": []
          },
          "execution_count": 16
        }
      ]
    },
    {
      "cell_type": "markdown",
      "metadata": {
        "id": "sazZ9V-QkM5Z"
      },
      "source": [
        "## Classification"
      ]
    },
    {
      "cell_type": "markdown",
      "metadata": {
        "id": "c-KIJ9X-hloK"
      },
      "source": [
        "Let's go back to the TF-IDF matrix and use it to do some classification"
      ]
    },
    {
      "cell_type": "code",
      "metadata": {
        "id": "LzH9LLZdhlyx"
      },
      "source": [
        "from sklearn.feature_extraction.text import TfidfVectorizer, CountVectorizer\n",
        "\n",
        "tfidf_vectorizer = TfidfVectorizer(\n",
        "    max_df=0.9, # Remove any words that appear in more than 90% of our documents\n",
        "    min_df=5, # Remove words that appear in fewer than 5 document\n",
        "    ngram_range=(1, 1), # Only extract unigrams\n",
        "    stop_words=stop_words, # Remove stopwords\n",
        "    max_features=2500 # Grab the 2500 most common words (based on above constraints)\n",
        ")\n",
        "tfidf = tfidf_vectorizer.fit_transform(sample['Text'])\n",
        "ngrams = tfidf_vectorizer.get_feature_names()"
      ],
      "execution_count": 17,
      "outputs": []
    },
    {
      "cell_type": "markdown",
      "metadata": {
        "id": "TFOKxLkBkM5a"
      },
      "source": [
        "Let's make an outcome variable.  How about we try to predict 5-star reviews, and then maybe helpfulness?"
      ]
    },
    {
      "cell_type": "code",
      "metadata": {
        "id": "O9Yv0TjbkM5c"
      },
      "source": [
        "sample['good_score'] = sample['Score'].map(lambda x: 1 if x == 5 else 0)\n",
        "sample['was_helpful'] = ((sample['HelpfulnessNumerator'] / sample['HelpfulnessDenominator']).fillna(0.0) > .80).astype(int)"
      ],
      "execution_count": 18,
      "outputs": []
    },
    {
      "cell_type": "code",
      "metadata": {
        "id": "l-nGtmE0kM5f"
      },
      "source": [
        "column_to_predict = 'good_score'"
      ],
      "execution_count": 19,
      "outputs": []
    },
    {
      "cell_type": "code",
      "metadata": {
        "id": "TeHT5KaskM5k"
      },
      "source": [
        "from sklearn.model_selection import StratifiedKFold\n",
        "from sklearn import svm\n",
        "from sklearn import metrics\n",
        "\n",
        "results = []\n",
        "kfolds = StratifiedKFold(n_splits=5)"
      ],
      "execution_count": 20,
      "outputs": []
    },
    {
      "cell_type": "markdown",
      "metadata": {
        "id": "L5bpQLmdkM5o"
      },
      "source": [
        "We just created an object that'll split the data into fifths, and then iterate over it five times, holding out one-fifth each time for testing.  Let's do that now.  Each \"fold\" contains an index for training rows, and one for testing rows.  For each fold, we'll train a basic linear Support Vector Machine, and evaluate its performance."
      ]
    },
    {
      "cell_type": "code",
      "metadata": {
        "id": "7pjTP4XHkM5p",
        "outputId": "7f252e49-33e4-4d3c-8f8b-ad369ffbf2c1",
        "colab": {
          "base_uri": "https://localhost:8080/"
        }
      },
      "source": [
        "for i, fold in enumerate(kfolds.split(tfidf, sample[column_to_predict])):\n",
        "    \n",
        "    train, test = fold \n",
        "    print(\"Running new fold, {} training cases, {} testing cases\".format(len(train), len(test)))\n",
        "    \n",
        "    clf = svm.LinearSVC(\n",
        "        max_iter=1000,\n",
        "        penalty='l2',\n",
        "        class_weight='balanced',\n",
        "        loss='squared_hinge'\n",
        "    )\n",
        "    # We picked some decent starting parameters, but you can try out different ones\n",
        "    # http://scikit-learn.org/stable/modules/generated/sklearn.svm.LinearSVC.html \n",
        "    # If you're ambitious - check out the Scikit-Learn documentation and test out different models\n",
        "    # http://scikit-learn.org/stable/supervised_learning.html\n",
        "    # XGBoost is one of my favorites, and there's an Scikit-Learn wrapper for it\n",
        "    # https://machinelearningmastery.com/develop-first-xgboost-model-python-scikit-learn/\n",
        "    \n",
        "    training_text = tfidf[train]\n",
        "    training_outcomes = sample[column_to_predict].loc[train]\n",
        "    clf.fit(training_text, training_outcomes) # Train the classifier on the training data\n",
        "    \n",
        "    test_text = tfidf[test]\n",
        "    test_outcomes = sample[column_to_predict].loc[test]\n",
        "    predictions = clf.predict(test_text) # Get predictions for the test data\n",
        "    \n",
        "    precision, recall, fscore, support = metrics.precision_recall_fscore_support(\n",
        "        test_outcomes, # Compare the predictions against the true outcomes\n",
        "        predictions\n",
        "    )\n",
        "    \n",
        "    results.append({\n",
        "        \"fold\": i,\n",
        "        \"outcome\": 0,\n",
        "        \"precision\": precision[0],\n",
        "        \"recall\": recall[0],\n",
        "        \"fscore\": fscore[0],\n",
        "        \"support\": support[0]\n",
        "    })\n",
        "    \n",
        "    results.append({\n",
        "        \"fold\": i,\n",
        "        \"outcome\": 1,\n",
        "        \"precision\": precision[1],\n",
        "        \"recall\": recall[1],\n",
        "        \"fscore\": fscore[1],\n",
        "        \"support\": support[1]\n",
        "    })\n",
        "    \n",
        "results = pd.DataFrame(results)"
      ],
      "execution_count": 21,
      "outputs": [
        {
          "output_type": "stream",
          "text": [
            "Running new fold, 8000 training cases, 2000 testing cases\n",
            "Running new fold, 8000 training cases, 2000 testing cases\n",
            "Running new fold, 8000 training cases, 2000 testing cases\n",
            "Running new fold, 8000 training cases, 2000 testing cases\n",
            "Running new fold, 8000 training cases, 2000 testing cases\n"
          ],
          "name": "stdout"
        }
      ]
    },
    {
      "cell_type": "markdown",
      "metadata": {
        "id": "a1NrCFi1kM5t"
      },
      "source": [
        "How'd we do?"
      ]
    },
    {
      "cell_type": "code",
      "metadata": {
        "id": "9wJQJUDHkM5w",
        "outputId": "914c98f2-66a2-4262-8a6f-23d2be5db79b",
        "colab": {
          "base_uri": "https://localhost:8080/"
        }
      },
      "source": [
        "print(results.groupby(\"outcome\").mean()[['precision', 'recall']])\n",
        "print(results.groupby(\"outcome\").std()[['precision', 'recall']])"
      ],
      "execution_count": 22,
      "outputs": [
        {
          "output_type": "stream",
          "text": [
            "         precision    recall\n",
            "outcome                     \n",
            "0         0.640849  0.698769\n",
            "1         0.817060  0.774468\n",
            "         precision    recall\n",
            "outcome                     \n",
            "0         0.008227  0.020460\n",
            "1         0.010000  0.005666\n"
          ],
          "name": "stdout"
        }
      ]
    },
    {
      "cell_type": "markdown",
      "metadata": {
        "id": "U2rUl89xkM50"
      },
      "source": [
        "Now we know that our model is pretty stable and reasonably performant, we can fit and transform the full dataset."
      ]
    },
    {
      "cell_type": "code",
      "metadata": {
        "id": "wjs8Wai1kM52",
        "outputId": "7f272f00-9508-41a4-a56d-d598f9674770",
        "colab": {
          "base_uri": "https://localhost:8080/"
        }
      },
      "source": [
        "clf.fit(tfidf, sample[column_to_predict])  \n",
        "predictions = clf.predict(tfidf)\n",
        "print(metrics.classification_report(sample[column_to_predict], predictions))\n",
        "print(metrics.confusion_matrix(sample[column_to_predict], predictions))\n",
        "# You can see that the performance looks better when you run the model on data it's already seen"
      ],
      "execution_count": 23,
      "outputs": [
        {
          "output_type": "stream",
          "text": [
            "              precision    recall  f1-score   support\n",
            "\n",
            "           0       0.78      0.87      0.82      3655\n",
            "           1       0.92      0.86      0.89      6345\n",
            "\n",
            "    accuracy                           0.86     10000\n",
            "   macro avg       0.85      0.86      0.86     10000\n",
            "weighted avg       0.87      0.86      0.87     10000\n",
            "\n",
            "[[3164  491]\n",
            " [ 868 5477]]\n"
          ],
          "name": "stdout"
        }
      ]
    },
    {
      "cell_type": "markdown",
      "metadata": {
        "id": "MJbHn-M9kM58"
      },
      "source": [
        "And now we can see what the most predictive features are."
      ]
    },
    {
      "cell_type": "code",
      "metadata": {
        "id": "1NPFIjeBkM58",
        "outputId": "1a31d37f-0bd5-4884-9334-0d5c0be23c2a",
        "colab": {
          "base_uri": "https://localhost:8080/"
        }
      },
      "source": [
        "import numpy as np\n",
        "\n",
        "ngram_coefs = sorted(zip(ngrams, clf.coef_[0]), key=lambda x: x[1], reverse=True)\n",
        "ngram_coefs[:10]"
      ],
      "execution_count": 24,
      "outputs": [
        {
          "output_type": "execute_result",
          "data": {
            "text/plain": [
              "[('highly', 3.1013130917137777),\n",
              " ('best', 2.444743275433364),\n",
              " ('love', 2.306616889244311),\n",
              " ('perfect', 2.2929034381917535),\n",
              " ('favorite', 2.1199982849994745),\n",
              " ('wonderful', 2.0063344263556337),\n",
              " ('cancer', 1.943117438070201),\n",
              " ('fabulous', 1.8950412837848212),\n",
              " ('satisfied', 1.869043540556362),\n",
              " ('addicted', 1.8094489171934698)]"
            ]
          },
          "metadata": {
            "tags": []
          },
          "execution_count": 24
        }
      ]
    },
    {
      "cell_type": "markdown",
      "metadata": {
        "collapsed": true,
        "id": "lrPmLIGckM5_"
      },
      "source": [
        "What happens if you change the outcome column to \"was_helpful\" and re-run it again?  Can you think of ways to improve this?  Add more stopwords?  Include bigrams in addition to unigrams?"
      ]
    },
    {
      "cell_type": "markdown",
      "metadata": {
        "id": "HSbNaH3LkM6B"
      },
      "source": [
        "## Topic Modeling"
      ]
    },
    {
      "cell_type": "code",
      "metadata": {
        "id": "3Gg7Jz4LkM6B"
      },
      "source": [
        "from sklearn.decomposition import NMF, LatentDirichletAllocation"
      ],
      "execution_count": 25,
      "outputs": []
    },
    {
      "cell_type": "code",
      "metadata": {
        "id": "Or9lX_kRkM6F"
      },
      "source": [
        "def print_top_words(model, feature_names, n_top_words):\n",
        "    for topic_idx, topic in enumerate(model.components_):\n",
        "        print(\"Topic #{}: {}\".format(\n",
        "            topic_idx,\n",
        "            \", \".join([feature_names[i] for i in topic.argsort()[:-n_top_words - 1:-1]])\n",
        "        ))"
      ],
      "execution_count": 26,
      "outputs": []
    },
    {
      "cell_type": "markdown",
      "metadata": {
        "id": "O8EFVHOpkM6N"
      },
      "source": [
        "Let's find some topics.  We'll check out non-negative matrix factorization (NMF) first."
      ]
    },
    {
      "cell_type": "code",
      "metadata": {
        "id": "RZ--hFgHkM6O",
        "outputId": "1948be69-18c7-4091-d78b-42d82399b02b",
        "colab": {
          "base_uri": "https://localhost:8080/"
        }
      },
      "source": [
        "nmf = NMF(n_components=10, random_state=42, alpha=.1, l1_ratio=.5).fit(tfidf)\n",
        "# Try out different numbers of topics (change n_components)\n",
        "# Documentation: http://scikit-learn.org/stable/modules/generated/sklearn.decomposition.NMF.html\n",
        "print(\"\\nTopics in NMF model:\")\n",
        "print_top_words(nmf, ngrams, 10)"
      ],
      "execution_count": 27,
      "outputs": [
        {
          "output_type": "stream",
          "text": [
            "\n",
            "Topics in NMF model:\n",
            "Topic #0: flavor, taste, sugar, ve, really, make, water, tried, don, little\n",
            "Topic #1: coffee, cup, strong, roast, bold, flavor, blend, keurig, dark, pod\n",
            "Topic #2: tea, green, bag, drink, cup, iced, stash, black, taste, earl\n",
            "Topic #3: dog, treat, love, food, chew, bone, small, size, teeth, toy\n",
            "Topic #4: cat, food, eat, dry, wellness, canned, chicken, ingredient, love, vet\n",
            "Topic #5: product, store, price, order, buy, local, grocery, shipping, time, box\n",
            "Topic #6: great, love, snack, price, deal, taste, healthy, recommend, highly, tasting\n",
            "Topic #7: chocolate, bar, dark, snack, nut, peanut, candy, protein, sweet, calorie\n",
            "Topic #8: chip, bag, salt, potato, kettle, snack, vinegar, salty, flavor, fat\n",
            "Topic #9: good, really, price, taste, pretty, quality, tasting, quite, fresh, enjoy\n"
          ],
          "name": "stdout"
        }
      ]
    },
    {
      "cell_type": "markdown",
      "metadata": {
        "id": "4kclKM2ykM6R"
      },
      "source": [
        "LDA is an other popular topic modeling technique"
      ]
    },
    {
      "cell_type": "code",
      "metadata": {
        "id": "vR7vcXqBkM6S",
        "outputId": "7c0ece6b-fe77-4e8f-d0a9-56edd0e3b6df",
        "colab": {
          "base_uri": "https://localhost:8080/"
        }
      },
      "source": [
        "lda = LatentDirichletAllocation(n_components=10, random_state=42).fit(tfidf)\n",
        "# Documentation: http://scikit-learn.org/stable/modules/generated/sklearn.decomposition.LatentDirichletAllocation.html\n",
        "# doc_topic_prior (alpha) - lower alpha means documents will be composed of fewer topics (higher means a more uniform distriution across all topics)\n",
        "# topic_word_prior (beta) - lower beta means topics will be composed of fewer words (higher means a more uniform distribution across all words)\n",
        "print(\"\\nTopics in LDA model:\")\n",
        "print_top_words(lda, ngrams, 10)"
      ],
      "execution_count": 28,
      "outputs": [
        {
          "output_type": "stream",
          "text": [
            "\n",
            "Topics in LDA model:\n",
            "Topic #0: coffee, cup, flavor, taste, drink, good, strong, great, roast, tea\n",
            "Topic #1: taste, bar, sugar, good, great, flavor, chocolate, product, snack, calorie\n",
            "Topic #2: sauce, chip, salt, great, pasta, flavor, soup, good, cheese, spicy\n",
            "Topic #3: chocolate, great, love, good, cereal, snack, box, cider, curry, bag\n",
            "Topic #4: tea, popcorn, taste, flavor, good, bag, drink, green, chai, great\n",
            "Topic #5: dog, treat, love, chew, teeth, toy, bone, size, training, great\n",
            "Topic #6: product, price, arrived, gift, order, great, store, good, item, box\n",
            "Topic #7: sleep, product, night, help, container, calm, great, link, good, jack\n",
            "Topic #8: food, cat, dog, product, love, eat, good, year, bag, time\n",
            "Topic #9: store, baby, love, product, great, price, time, buy, year, good\n"
          ],
          "name": "stdout"
        }
      ]
    },
    {
      "cell_type": "markdown",
      "metadata": {
        "id": "nRMNyOYPkM6Y"
      },
      "source": [
        "We can use the topic models the same way we did our classifier - everything in Scikit-Learn follows the same fit/transform paradigm.  So, let's get the topics for our documents."
      ]
    },
    {
      "cell_type": "code",
      "metadata": {
        "id": "9SLdy_WNkM6Z"
      },
      "source": [
        "doc_topics = pd.DataFrame(lda.transform(tfidf))"
      ],
      "execution_count": 29,
      "outputs": []
    },
    {
      "cell_type": "code",
      "metadata": {
        "id": "v2NI2UyrkM6c",
        "outputId": "e7123c87-173d-46a5-9386-884afc448c98",
        "colab": {
          "base_uri": "https://localhost:8080/",
          "height": 195
        }
      },
      "source": [
        "doc_topics.head()"
      ],
      "execution_count": 30,
      "outputs": [
        {
          "output_type": "execute_result",
          "data": {
            "text/html": [
              "<div>\n",
              "<style scoped>\n",
              "    .dataframe tbody tr th:only-of-type {\n",
              "        vertical-align: middle;\n",
              "    }\n",
              "\n",
              "    .dataframe tbody tr th {\n",
              "        vertical-align: top;\n",
              "    }\n",
              "\n",
              "    .dataframe thead th {\n",
              "        text-align: right;\n",
              "    }\n",
              "</style>\n",
              "<table border=\"1\" class=\"dataframe\">\n",
              "  <thead>\n",
              "    <tr style=\"text-align: right;\">\n",
              "      <th></th>\n",
              "      <th>0</th>\n",
              "      <th>1</th>\n",
              "      <th>2</th>\n",
              "      <th>3</th>\n",
              "      <th>4</th>\n",
              "      <th>5</th>\n",
              "      <th>6</th>\n",
              "      <th>7</th>\n",
              "      <th>8</th>\n",
              "      <th>9</th>\n",
              "    </tr>\n",
              "  </thead>\n",
              "  <tbody>\n",
              "    <tr>\n",
              "      <th>0</th>\n",
              "      <td>0.024099</td>\n",
              "      <td>0.024098</td>\n",
              "      <td>0.783103</td>\n",
              "      <td>0.024103</td>\n",
              "      <td>0.024096</td>\n",
              "      <td>0.024099</td>\n",
              "      <td>0.024098</td>\n",
              "      <td>0.024106</td>\n",
              "      <td>0.024102</td>\n",
              "      <td>0.024097</td>\n",
              "    </tr>\n",
              "    <tr>\n",
              "      <th>1</th>\n",
              "      <td>0.750107</td>\n",
              "      <td>0.027767</td>\n",
              "      <td>0.027766</td>\n",
              "      <td>0.027764</td>\n",
              "      <td>0.027766</td>\n",
              "      <td>0.027765</td>\n",
              "      <td>0.027768</td>\n",
              "      <td>0.027763</td>\n",
              "      <td>0.027767</td>\n",
              "      <td>0.027766</td>\n",
              "    </tr>\n",
              "    <tr>\n",
              "      <th>2</th>\n",
              "      <td>0.016939</td>\n",
              "      <td>0.016949</td>\n",
              "      <td>0.016949</td>\n",
              "      <td>0.016937</td>\n",
              "      <td>0.815528</td>\n",
              "      <td>0.016946</td>\n",
              "      <td>0.016941</td>\n",
              "      <td>0.016941</td>\n",
              "      <td>0.016946</td>\n",
              "      <td>0.048924</td>\n",
              "    </tr>\n",
              "    <tr>\n",
              "      <th>3</th>\n",
              "      <td>0.023150</td>\n",
              "      <td>0.023149</td>\n",
              "      <td>0.023147</td>\n",
              "      <td>0.023146</td>\n",
              "      <td>0.791670</td>\n",
              "      <td>0.023147</td>\n",
              "      <td>0.023147</td>\n",
              "      <td>0.023151</td>\n",
              "      <td>0.023146</td>\n",
              "      <td>0.023147</td>\n",
              "    </tr>\n",
              "    <tr>\n",
              "      <th>4</th>\n",
              "      <td>0.021649</td>\n",
              "      <td>0.021662</td>\n",
              "      <td>0.021655</td>\n",
              "      <td>0.021648</td>\n",
              "      <td>0.021648</td>\n",
              "      <td>0.021651</td>\n",
              "      <td>0.021647</td>\n",
              "      <td>0.021650</td>\n",
              "      <td>0.805141</td>\n",
              "      <td>0.021650</td>\n",
              "    </tr>\n",
              "  </tbody>\n",
              "</table>\n",
              "</div>"
            ],
            "text/plain": [
              "          0         1         2  ...         7         8         9\n",
              "0  0.024099  0.024098  0.783103  ...  0.024106  0.024102  0.024097\n",
              "1  0.750107  0.027767  0.027766  ...  0.027763  0.027767  0.027766\n",
              "2  0.016939  0.016949  0.016949  ...  0.016941  0.016946  0.048924\n",
              "3  0.023150  0.023149  0.023147  ...  0.023151  0.023146  0.023147\n",
              "4  0.021649  0.021662  0.021655  ...  0.021650  0.805141  0.021650\n",
              "\n",
              "[5 rows x 10 columns]"
            ]
          },
          "metadata": {
            "tags": []
          },
          "execution_count": 30
        }
      ]
    },
    {
      "cell_type": "code",
      "metadata": {
        "id": "6V_BjnkPkM6g"
      },
      "source": [
        "topic_column_names = [\"topic_{}\".format(c) for c in doc_topics.columns]\n",
        "doc_topics.columns = topic_column_names"
      ],
      "execution_count": 31,
      "outputs": []
    },
    {
      "cell_type": "markdown",
      "metadata": {
        "id": "DPQuLr80kM6p"
      },
      "source": [
        "Next we use Pandas to join the topics with the original sample dataframe"
      ]
    },
    {
      "cell_type": "code",
      "metadata": {
        "id": "qdBumd8OkM6v"
      },
      "source": [
        "sample_with_topics = pd.concat([sample, doc_topics], axis=1)"
      ],
      "execution_count": 32,
      "outputs": []
    },
    {
      "cell_type": "markdown",
      "metadata": {
        "id": "2oEmbWh9kM7T"
      },
      "source": [
        "Let's look for patterns by running some means and correlations"
      ]
    },
    {
      "cell_type": "code",
      "metadata": {
        "id": "nSykwVGAkM7W",
        "outputId": "143bf7d9-4a46-4857-b3fd-902a9597915f",
        "colab": {
          "base_uri": "https://localhost:8080/",
          "height": 136
        }
      },
      "source": [
        "topic_columns = [col for col in sample_with_topics.columns if col.startswith(\"topic_\")]\n",
        "sample_with_topics.groupby(\"good_score\").mean()[topic_columns]"
      ],
      "execution_count": 33,
      "outputs": [
        {
          "output_type": "execute_result",
          "data": {
            "text/html": [
              "<div>\n",
              "<style scoped>\n",
              "    .dataframe tbody tr th:only-of-type {\n",
              "        vertical-align: middle;\n",
              "    }\n",
              "\n",
              "    .dataframe tbody tr th {\n",
              "        vertical-align: top;\n",
              "    }\n",
              "\n",
              "    .dataframe thead th {\n",
              "        text-align: right;\n",
              "    }\n",
              "</style>\n",
              "<table border=\"1\" class=\"dataframe\">\n",
              "  <thead>\n",
              "    <tr style=\"text-align: right;\">\n",
              "      <th></th>\n",
              "      <th>topic_0</th>\n",
              "      <th>topic_1</th>\n",
              "      <th>topic_2</th>\n",
              "      <th>topic_3</th>\n",
              "      <th>topic_4</th>\n",
              "      <th>topic_5</th>\n",
              "      <th>topic_6</th>\n",
              "      <th>topic_7</th>\n",
              "      <th>topic_8</th>\n",
              "      <th>topic_9</th>\n",
              "    </tr>\n",
              "    <tr>\n",
              "      <th>good_score</th>\n",
              "      <th></th>\n",
              "      <th></th>\n",
              "      <th></th>\n",
              "      <th></th>\n",
              "      <th></th>\n",
              "      <th></th>\n",
              "      <th></th>\n",
              "      <th></th>\n",
              "      <th></th>\n",
              "      <th></th>\n",
              "    </tr>\n",
              "  </thead>\n",
              "  <tbody>\n",
              "    <tr>\n",
              "      <th>0</th>\n",
              "      <td>0.183903</td>\n",
              "      <td>0.226292</td>\n",
              "      <td>0.065056</td>\n",
              "      <td>0.041901</td>\n",
              "      <td>0.076930</td>\n",
              "      <td>0.058601</td>\n",
              "      <td>0.071276</td>\n",
              "      <td>0.033828</td>\n",
              "      <td>0.172662</td>\n",
              "      <td>0.069551</td>\n",
              "    </tr>\n",
              "    <tr>\n",
              "      <th>1</th>\n",
              "      <td>0.142316</td>\n",
              "      <td>0.226311</td>\n",
              "      <td>0.087173</td>\n",
              "      <td>0.047796</td>\n",
              "      <td>0.090577</td>\n",
              "      <td>0.068197</td>\n",
              "      <td>0.092969</td>\n",
              "      <td>0.034686</td>\n",
              "      <td>0.127523</td>\n",
              "      <td>0.082451</td>\n",
              "    </tr>\n",
              "  </tbody>\n",
              "</table>\n",
              "</div>"
            ],
            "text/plain": [
              "             topic_0   topic_1   topic_2  ...   topic_7   topic_8   topic_9\n",
              "good_score                                ...                              \n",
              "0           0.183903  0.226292  0.065056  ...  0.033828  0.172662  0.069551\n",
              "1           0.142316  0.226311  0.087173  ...  0.034686  0.127523  0.082451\n",
              "\n",
              "[2 rows x 10 columns]"
            ]
          },
          "metadata": {
            "tags": []
          },
          "execution_count": 33
        }
      ]
    },
    {
      "cell_type": "code",
      "metadata": {
        "id": "QGMAZObWkM7Z",
        "outputId": "6ca4d07c-a191-4441-b593-162f548f3b51",
        "colab": {
          "base_uri": "https://localhost:8080/"
        }
      },
      "source": [
        "for topic in topic_column_names:\n",
        "    print(\"{}: {}\".format(topic, sample_with_topics[topic].corr(sample_with_topics['Score'])))"
      ],
      "execution_count": 34,
      "outputs": [
        {
          "output_type": "stream",
          "text": [
            "topic_0: -0.025292235465098026\n",
            "topic_1: 0.012046757693743672\n",
            "topic_2: 0.06959235818628244\n",
            "topic_3: 0.02344640187646894\n",
            "topic_4: 0.035996895241293216\n",
            "topic_5: 0.034091342273425244\n",
            "topic_6: 0.04691101261547622\n",
            "topic_7: -0.0016848166526520594\n",
            "topic_8: -0.13859039591384575\n",
            "topic_9: 0.01900770995053607\n"
          ],
          "name": "stdout"
        }
      ]
    },
    {
      "cell_type": "markdown",
      "metadata": {
        "id": "j-6ZwJyFkM7f"
      },
      "source": [
        "Here's an example of a linear regression"
      ]
    },
    {
      "cell_type": "code",
      "metadata": {
        "id": "6vP0Az_OkM7g",
        "outputId": "5ed87466-e97c-49f6-d479-4c959e19e0b3",
        "colab": {
          "base_uri": "https://localhost:8080/"
        }
      },
      "source": [
        "from sklearn import datasets, linear_model\n",
        "from sklearn.metrics import mean_squared_error, r2_score\n",
        "\n",
        "training_data = sample_with_topics[topic_column_names[:-1]] \n",
        "# We're leaving a column out to avoid multicollinearity\n",
        "\n",
        "regression = linear_model.LinearRegression()\n",
        "\n",
        "# Train the model using the training sets\n",
        "regression.fit(training_data, sample_with_topics['Score'])\n",
        "coefficients = regression.coef_\n",
        "for topic, coef in zip(topic_column_names[:-1], coefficients):\n",
        "  print(\"{}: {}\".format(topic, coef))"
      ],
      "execution_count": 35,
      "outputs": [
        {
          "output_type": "stream",
          "text": [
            "topic_0: -0.2126938279684611\n",
            "topic_1: -0.08431147949125337\n",
            "topic_2: 0.39070487682918603\n",
            "topic_3: 0.10179168229468157\n",
            "topic_4: 0.1007044347349962\n",
            "topic_5: 0.1935251748886603\n",
            "topic_6: 0.18368702620144362\n",
            "topic_7: -0.2113170836932562\n",
            "topic_8: -0.7277794219956406\n"
          ],
          "name": "stdout"
        }
      ]
    },
    {
      "cell_type": "markdown",
      "metadata": {
        "id": "nkdRbLFOkM7k"
      },
      "source": [
        "Sadly Scikit-Learn doesn't make it easy to get p-values or a regression report like you'd normally expect of something like R or Stata.  Scikit-Learn is more about prediction than statistical analysis; for the latter, we can use Statsmodels.  "
      ]
    },
    {
      "cell_type": "code",
      "metadata": {
        "id": "mQhoNPl5kM7l",
        "outputId": "92f76c65-dbdd-4bd9-90a8-5c846b0efd56",
        "colab": {
          "base_uri": "https://localhost:8080/"
        }
      },
      "source": [
        "import statsmodels.api as sm\n",
        "\n",
        "training_data = sm.add_constant(training_data)\n",
        "regression = sm.OLS(sample_with_topics['Score'], training_data)\n",
        "results = regression.fit()\n",
        "print(results.summary())"
      ],
      "execution_count": 36,
      "outputs": [
        {
          "output_type": "stream",
          "text": [
            "/usr/local/lib/python3.6/dist-packages/statsmodels/tools/_testing.py:19: FutureWarning: pandas.util.testing is deprecated. Use the functions in the public API at pandas.testing instead.\n",
            "  import pandas.util.testing as tm\n"
          ],
          "name": "stderr"
        },
        {
          "output_type": "stream",
          "text": [
            "                            OLS Regression Results                            \n",
            "==============================================================================\n",
            "Dep. Variable:                  Score   R-squared:                       0.026\n",
            "Model:                            OLS   Adj. R-squared:                  0.026\n",
            "Method:                 Least Squares   F-statistic:                     30.11\n",
            "Date:                Mon, 16 Nov 2020   Prob (F-statistic):           2.00e-52\n",
            "Time:                        21:36:38   Log-Likelihood:                -16832.\n",
            "No. Observations:               10000   AIC:                         3.368e+04\n",
            "Df Residuals:                    9990   BIC:                         3.376e+04\n",
            "Df Model:                           9                                         \n",
            "Covariance Type:            nonrobust                                         \n",
            "==============================================================================\n",
            "                 coef    std err          t      P>|t|      [0.025      0.975]\n",
            "------------------------------------------------------------------------------\n",
            "const          4.2597      0.071     59.682      0.000       4.120       4.400\n",
            "topic_0       -0.2127      0.085     -2.506      0.012      -0.379      -0.046\n",
            "topic_1       -0.0843      0.081     -1.035      0.301      -0.244       0.075\n",
            "topic_2        0.3907      0.105      3.723      0.000       0.185       0.596\n",
            "topic_3        0.1018      0.134      0.758      0.448      -0.161       0.365\n",
            "topic_4        0.1007      0.098      1.025      0.306      -0.092       0.293\n",
            "topic_5        0.1935      0.109      1.768      0.077      -0.021       0.408\n",
            "topic_6        0.1837      0.102      1.802      0.072      -0.016       0.383\n",
            "topic_7       -0.2113      0.175     -1.209      0.227      -0.554       0.131\n",
            "topic_8       -0.7278      0.087     -8.371      0.000      -0.898      -0.557\n",
            "==============================================================================\n",
            "Omnibus:                     1944.496   Durbin-Watson:                   1.979\n",
            "Prob(Omnibus):                  0.000   Jarque-Bera (JB):             3279.120\n",
            "Skew:                          -1.368   Prob(JB):                         0.00\n",
            "Kurtosis:                       3.620   Cond. No.                         20.2\n",
            "==============================================================================\n",
            "\n",
            "Warnings:\n",
            "[1] Standard Errors assume that the covariance matrix of the errors is correctly specified.\n"
          ],
          "name": "stdout"
        }
      ]
    },
    {
      "cell_type": "markdown",
      "metadata": {
        "id": "2f_w8SaHkM7s"
      },
      "source": [
        "### K-Means Clustering"
      ]
    },
    {
      "cell_type": "markdown",
      "metadata": {
        "id": "irPRm24HkM7r"
      },
      "source": [
        "We can also check out other unsupervised methods like clustering.  I borrowed/modified some of this code from http://brandonrose.org/clustering"
      ]
    },
    {
      "cell_type": "code",
      "metadata": {
        "id": "4fDUj6lmkM7t"
      },
      "source": [
        "from sklearn.cluster import KMeans\n",
        "\n",
        "kmeans = KMeans(n_clusters=10, max_iter=50, tol=.01, n_jobs=-1)\n",
        "# http://scikit-learn.org/stable/modules/generated/sklearn.cluster.KMeans.html\n",
        "kmeans.fit(tfidf)\n",
        "clusters = kmeans.labels_.tolist() # You can merge these back into the data if you want"
      ],
      "execution_count": 37,
      "outputs": []
    },
    {
      "cell_type": "code",
      "metadata": {
        "id": "jM0j-kV5kM7w",
        "outputId": "7b6ac020-a023-4e2d-d4fe-69a264db5b34",
        "colab": {
          "base_uri": "https://localhost:8080/"
        }
      },
      "source": [
        "centroids = kmeans.cluster_centers_.argsort()[:, ::-1] \n",
        "for i, closest_ngrams in enumerate(centroids):\n",
        "    print(\"Cluster #{}: {}\".format(i, \", \".join(np.array(ngrams)[closest_ngrams[:8]])))"
      ],
      "execution_count": 38,
      "outputs": [
        {
          "output_type": "stream",
          "text": [
            "Cluster #0: dog, treat, food, love, chew, product, good, bone\n",
            "Cluster #1: coffee, cup, flavor, strong, taste, good, roast, blend\n",
            "Cluster #2: cooky, gluten, free, cookie, good, taste, great, love\n",
            "Cluster #3: drink, water, sugar, taste, flavor, good, sweet, soda\n",
            "Cluster #4: bar, chocolate, taste, dark, good, snack, great, nut\n",
            "Cluster #5: product, great, store, price, good, grocery, local, taste\n",
            "Cluster #6: cat, food, eat, love, treat, wellness, chicken, dry\n",
            "Cluster #7: tea, taste, green, bag, flavor, good, drink, cup\n",
            "Cluster #8: chip, bag, potato, flavor, kettle, snack, great, salt\n",
            "Cluster #9: good, great, flavor, taste, love, really, time, make\n"
          ],
          "name": "stdout"
        }
      ]
    },
    {
      "cell_type": "markdown",
      "metadata": {
        "id": "BEqDN_T5kM72"
      },
      "source": [
        "### Agglomerative/Hierarchical Clustering"
      ]
    },
    {
      "cell_type": "markdown",
      "metadata": {
        "id": "ILDEuIfYs_Bk"
      },
      "source": [
        "Instead of specifying the number of clusters upfront, now we're going to use hierarchical clustering to characterize how similar words are to each other, again based on their co-occurrence within documents. To keep things manageable, we'll use a smaller set of 500 words."
      ]
    },
    {
      "cell_type": "code",
      "metadata": {
        "id": "u7ewqzz9kM74"
      },
      "source": [
        "# This Python library lets us produce graphics\n",
        "%matplotlib inline\n",
        "import matplotlib.pyplot as plt"
      ],
      "execution_count": 39,
      "outputs": []
    },
    {
      "cell_type": "code",
      "metadata": {
        "id": "THTuTZzDs6-Y"
      },
      "source": [
        "tfidf_vectorizer = TfidfVectorizer(\n",
        "    max_df=0.25, # Focus on less common, more unique words\n",
        "    min_df=5, \n",
        "    ngram_range=(1, 1), \n",
        "    stop_words=stop_words, \n",
        "    max_features=200 # <- smaller set of words\n",
        ")\n",
        "tfidf = tfidf_vectorizer.fit_transform(sample['Text'])\n",
        "ngrams = tfidf_vectorizer.get_feature_names()"
      ],
      "execution_count": 40,
      "outputs": []
    },
    {
      "cell_type": "code",
      "metadata": {
        "id": "Ff1y98QakM7-"
      },
      "source": [
        "from scipy.cluster.hierarchy import linkage, dendrogram\n",
        "from sklearn.metrics.pairwise import cosine_similarity\n",
        "\n",
        "# We'll use cosine similarity to get word similarities based on document overlap\n",
        "# This produces a matrix of every word compared to every other word\n",
        "# With a value of 0 - 1, indicating how often they occur together in the same documents\n",
        "# To get document similarities in terms of word overlap, just drop the .transpose()!\n",
        "similarities = cosine_similarity(tfidf.transpose()) \n",
        "distances = 1 - similarities # Converts to distances\n",
        "clusters = linkage(distances, method='ward') # Run hierarchical clustering on the distances"
      ],
      "execution_count": 41,
      "outputs": []
    },
    {
      "cell_type": "code",
      "metadata": {
        "id": "ksiZDPxskM8F",
        "outputId": "af183c51-cdf0-41ec-e1fc-134e3d019ca6",
        "colab": {
          "base_uri": "https://localhost:8080/",
          "height": 1000
        }
      },
      "source": [
        "fig, ax = plt.subplots(figsize=(10, 40))\n",
        "ax = dendrogram(\n",
        "    clusters, \n",
        "    labels=ngrams, \n",
        "    orientation=\"left\", \n",
        "    leaf_font_size=14, \n",
        "    color_threshold=1.5\n",
        ")\n",
        "plt.tight_layout()"
      ],
      "execution_count": 42,
      "outputs": [
        {
          "output_type": "display_data",
          "data": {
            "image/png": "[encoded data removed]",
            "text/plain": [
              "<Figure size 720x2880 with 1 Axes>"
            ]
          },
          "metadata": {
            "tags": [],
            "needs_background": "light"
          }
        }
      ]
    },
    {
      "cell_type": "markdown",
      "metadata": {
        "id": "t6IgywXT0UQS"
      },
      "source": [
        "## Pew Analytics"
      ]
    },
    {
      "cell_type": "code",
      "metadata": {
        "id": "2r0583990UkD",
        "outputId": "4d6374e7-0d96-4e3a-9a7f-0fd237c0738c",
        "colab": {
          "base_uri": "https://localhost:8080/"
        }
      },
      "source": [
        "!pip install zipcodes\n",
        "!pip install git+https://github.com/pewresearch/pewtils#egg=pewtils\n",
        "!pip install git+https://github.com/pewresearch/pewanalytics#egg=pewanalytics"
      ],
      "execution_count": 43,
      "outputs": [
        {
          "output_type": "stream",
          "text": [
            "Requirement already satisfied: zipcodes in /usr/local/lib/python3.6/dist-packages (1.1.2)\n",
            "Requirement already satisfied: pewtils from git+https://github.com/pewresearch/pewtils#egg=pewtils in /usr/local/lib/python3.6/dist-packages (1.0.0)\n",
            "Requirement already satisfied: pandas>=0.25.0; python_version >= \"3.0\" in /usr/local/lib/python3.6/dist-packages (from pewtils) (1.1.4)\n",
            "Requirement already satisfied: six>=1.14.0 in /usr/local/lib/python3.6/dist-packages (from pewtils) (1.15.0)\n",
            "Requirement already satisfied: tldextract>=2.2.1 in /usr/local/lib/python3.6/dist-packages (from pewtils) (3.0.2)\n",
            "Requirement already satisfied: scandir>=1.5 in /usr/local/lib/python3.6/dist-packages (from pewtils) (1.10.0)\n",
            "Requirement already satisfied: python-levenshtein>=0.12.0 in /usr/local/lib/python3.6/dist-packages (from pewtils) (0.12.0)\n",
            "Requirement already satisfied: autodocsumm>=0.1.13 in /usr/local/lib/python3.6/dist-packages (from pewtils) (0.2.1)\n",
            "Requirement already satisfied: lxml>=4.4.1 in /usr/local/lib/python3.6/dist-packages (from pewtils) (4.6.1)\n",
            "Requirement already satisfied: nilsimsa>=0.3.8 in /usr/local/lib/python3.6/dist-packages (from pewtils) (0.3.8)\n",
            "Requirement already satisfied: pytz>=2016.10 in /usr/local/lib/python3.6/dist-packages (from pewtils) (2018.9)\n",
            "Requirement already satisfied: requests>=2.13.0 in /usr/local/lib/python3.6/dist-packages (from pewtils) (2.23.0)\n",
            "Requirement already satisfied: unidecode>=0.4.20 in /usr/local/lib/python3.6/dist-packages (from pewtils) (1.1.1)\n",
            "Requirement already satisfied: scipy>=1.4; python_version >= \"3.0\" in /usr/local/lib/python3.6/dist-packages (from pewtils) (1.4.1)\n",
            "Requirement already satisfied: chardet>=2.3.0 in /usr/local/lib/python3.6/dist-packages (from pewtils) (3.0.4)\n",
            "Requirement already satisfied: cython>=0.25.2 in /usr/local/lib/python3.6/dist-packages (from pewtils) (0.29.21)\n",
            "Requirement already satisfied: boto3>=1.4.4 in /usr/local/lib/python3.6/dist-packages (from pewtils) (1.16.19)\n",
            "Requirement already satisfied: numpy>=1.16.0; python_version >= \"3.0\" in /usr/local/lib/python3.6/dist-packages (from pewtils) (1.18.5)\n",
            "Requirement already satisfied: python-dateutil>=2.6.0 in /usr/local/lib/python3.6/dist-packages (from pewtils) (2.8.1)\n",
            "Requirement already satisfied: xlrd>=1.2.0 in /usr/local/lib/python3.6/dist-packages (from pewtils) (1.2.0)\n",
            "Requirement already satisfied: zipcodes@ git+ssh://git@github.com/seanpianka/zipcodes.git#egg=zipcodes from git+ssh://****@github.com/seanpianka/zipcodes.git#egg=zipcodes in /usr/local/lib/python3.6/dist-packages (from pewtils) (1.1.2)\n",
            "Requirement already satisfied: sphinx-rtd-theme>=0.4.3 in /usr/local/lib/python3.6/dist-packages (from pewtils) (0.5.0)\n",
            "Requirement already satisfied: xlsxwriter>=1.1.8 in /usr/local/lib/python3.6/dist-packages (from pewtils) (1.3.7)\n",
            "Requirement already satisfied: beautifulsoup4>=4.5.3 in /usr/local/lib/python3.6/dist-packages (from pewtils) (4.6.3)\n",
            "Requirement already satisfied: unicode>=2.7 in /usr/local/lib/python3.6/dist-packages (from pewtils) (2.7)\n",
            "Requirement already satisfied: boto>=2.46.1 in /usr/local/lib/python3.6/dist-packages (from pewtils) (2.49.0)\n",
            "Requirement already satisfied: future>=0.18.2 in /usr/local/lib/python3.6/dist-packages (from pewtils) (0.18.2)\n",
            "Requirement already satisfied: simplejson>=3.10.0 in /usr/local/lib/python3.6/dist-packages (from pewtils) (3.17.2)\n",
            "Requirement already satisfied: tqdm>=4.11.2 in /usr/local/lib/python3.6/dist-packages (from pewtils) (4.41.1)\n",
            "Requirement already satisfied: requests-file>=1.4 in /usr/local/lib/python3.6/dist-packages (from tldextract>=2.2.1->pewtils) (1.5.1)\n",
            "Requirement already satisfied: idna in /usr/local/lib/python3.6/dist-packages (from tldextract>=2.2.1->pewtils) (2.10)\n",
            "Requirement already satisfied: filelock>=3.0.8 in /usr/local/lib/python3.6/dist-packages (from tldextract>=2.2.1->pewtils) (3.0.12)\n",
            "Requirement already satisfied: setuptools in /usr/local/lib/python3.6/dist-packages (from python-levenshtein>=0.12.0->pewtils) (50.3.2)\n",
            "Requirement already satisfied: sphinx>=2.2 in /usr/local/lib/python3.6/dist-packages (from autodocsumm>=0.1.13->pewtils) (3.3.1)\n",
            "Requirement already satisfied: certifi>=2017.4.17 in /usr/local/lib/python3.6/dist-packages (from requests>=2.13.0->pewtils) (2020.6.20)\n",
            "Requirement already satisfied: urllib3!=1.25.0,!=1.25.1,<1.26,>=1.21.1 in /usr/local/lib/python3.6/dist-packages (from requests>=2.13.0->pewtils) (1.24.3)\n",
            "Requirement already satisfied: botocore<1.20.0,>=1.19.19 in /usr/local/lib/python3.6/dist-packages (from boto3>=1.4.4->pewtils) (1.19.19)\n",
            "Requirement already satisfied: s3transfer<0.4.0,>=0.3.0 in /usr/local/lib/python3.6/dist-packages (from boto3>=1.4.4->pewtils) (0.3.3)\n",
            "Requirement already satisfied: jmespath<1.0.0,>=0.7.1 in /usr/local/lib/python3.6/dist-packages (from boto3>=1.4.4->pewtils) (0.10.0)\n",
            "Requirement already satisfied: sphinxcontrib-qthelp in /usr/local/lib/python3.6/dist-packages (from sphinx>=2.2->autodocsumm>=0.1.13->pewtils) (1.0.3)\n",
            "Requirement already satisfied: imagesize in /usr/local/lib/python3.6/dist-packages (from sphinx>=2.2->autodocsumm>=0.1.13->pewtils) (1.2.0)\n",
            "Requirement already satisfied: snowballstemmer>=1.1 in /usr/local/lib/python3.6/dist-packages (from sphinx>=2.2->autodocsumm>=0.1.13->pewtils) (2.0.0)\n",
            "Requirement already satisfied: packaging in /usr/local/lib/python3.6/dist-packages (from sphinx>=2.2->autodocsumm>=0.1.13->pewtils) (20.4)\n",
            "Requirement already satisfied: babel>=1.3 in /usr/local/lib/python3.6/dist-packages (from sphinx>=2.2->autodocsumm>=0.1.13->pewtils) (2.8.0)\n",
            "Requirement already satisfied: alabaster<0.8,>=0.7 in /usr/local/lib/python3.6/dist-packages (from sphinx>=2.2->autodocsumm>=0.1.13->pewtils) (0.7.12)\n",
            "Requirement already satisfied: sphinxcontrib-jsmath in /usr/local/lib/python3.6/dist-packages (from sphinx>=2.2->autodocsumm>=0.1.13->pewtils) (1.0.1)\n",
            "Requirement already satisfied: sphinxcontrib-applehelp in /usr/local/lib/python3.6/dist-packages (from sphinx>=2.2->autodocsumm>=0.1.13->pewtils) (1.0.2)\n",
            "Requirement already satisfied: sphinxcontrib-devhelp in /usr/local/lib/python3.6/dist-packages (from sphinx>=2.2->autodocsumm>=0.1.13->pewtils) (1.0.2)\n",
            "Requirement already satisfied: Jinja2>=2.3 in /usr/local/lib/python3.6/dist-packages (from sphinx>=2.2->autodocsumm>=0.1.13->pewtils) (2.11.2)\n",
            "Requirement already satisfied: sphinxcontrib-htmlhelp in /usr/local/lib/python3.6/dist-packages (from sphinx>=2.2->autodocsumm>=0.1.13->pewtils) (1.0.3)\n",
            "Requirement already satisfied: Pygments>=2.0 in /usr/local/lib/python3.6/dist-packages (from sphinx>=2.2->autodocsumm>=0.1.13->pewtils) (2.6.1)\n",
            "Requirement already satisfied: sphinxcontrib-serializinghtml in /usr/local/lib/python3.6/dist-packages (from sphinx>=2.2->autodocsumm>=0.1.13->pewtils) (1.1.4)\n",
            "Requirement already satisfied: docutils>=0.12 in /usr/local/lib/python3.6/dist-packages (from sphinx>=2.2->autodocsumm>=0.1.13->pewtils) (0.16)\n",
            "Requirement already satisfied: pyparsing>=2.0.2 in /usr/local/lib/python3.6/dist-packages (from packaging->sphinx>=2.2->autodocsumm>=0.1.13->pewtils) (2.4.7)\n",
            "Requirement already satisfied: MarkupSafe>=0.23 in /usr/local/lib/python3.6/dist-packages (from Jinja2>=2.3->sphinx>=2.2->autodocsumm>=0.1.13->pewtils) (1.1.1)\n",
            "Requirement already satisfied: pewanalytics from git+https://github.com/pewresearch/pewanalytics#egg=pewanalytics in /usr/local/lib/python3.6/dist-packages (1.0.0)\n",
            "Requirement already satisfied: unidecode>=0.4.20 in /usr/local/lib/python3.6/dist-packages (from pewanalytics) (1.1.1)\n",
            "Requirement already satisfied: python-levenshtein>=0.12.0 in /usr/local/lib/python3.6/dist-packages (from pewanalytics) (0.12.0)\n",
            "Requirement already satisfied: nilsimsa>=0.3.8 in /usr/local/lib/python3.6/dist-packages (from pewanalytics) (0.3.8)\n",
            "Requirement already satisfied: pandas>=0.25.0; python_version >= \"3.0\" in /usr/local/lib/python3.6/dist-packages (from pewanalytics) (1.1.4)\n",
            "Requirement already satisfied: statsmodels>=0.10.1 in /usr/local/lib/python3.6/dist-packages (from pewanalytics) (0.10.2)\n",
            "Requirement already satisfied: nltk>=3.2.2 in /usr/local/lib/python3.6/dist-packages (from pewanalytics) (3.2.5)\n",
            "Requirement already satisfied: future>=0.18.2 in /usr/local/lib/python3.6/dist-packages (from pewanalytics) (0.18.2)\n",
            "Requirement already satisfied: chardet>=2.3.0 in /usr/local/lib/python3.6/dist-packages (from pewanalytics) (3.0.4)\n",
            "Requirement already satisfied: spacy>=2.2.3 in /usr/local/lib/python3.6/dist-packages (from pewanalytics) (2.2.4)\n",
            "Requirement already satisfied: gensim>=3.8.1 in /usr/local/lib/python3.6/dist-packages (from pewanalytics) (3.8.3)\n",
            "Requirement already satisfied: seaborn>=0.9.0 in /usr/local/lib/python3.6/dist-packages (from pewanalytics) (0.11.0)\n",
            "Requirement already satisfied: boto>=2.46.1 in /usr/local/lib/python3.6/dist-packages (from pewanalytics) (2.49.0)\n",
            "Requirement already satisfied: scipy>=1.4.0; python_version >= \"3.0\" in /usr/local/lib/python3.6/dist-packages (from pewanalytics) (1.4.1)\n",
            "Requirement already satisfied: pytz>=2016.10 in /usr/local/lib/python3.6/dist-packages (from pewanalytics) (2018.9)\n",
            "Requirement already satisfied: requests>=2.13.0 in /usr/local/lib/python3.6/dist-packages (from pewanalytics) (2.23.0)\n",
            "Requirement already satisfied: tldextract>=2.2.1 in /usr/local/lib/python3.6/dist-packages (from pewanalytics) (3.0.2)\n",
            "Requirement already satisfied: zipcodes@ git+ssh://git@github.com/seanpianka/zipcodes.git#egg=zipcodes from git+ssh://****@github.com/seanpianka/zipcodes.git#egg=zipcodes in /usr/local/lib/python3.6/dist-packages (from pewanalytics) (1.1.2)\n",
            "Requirement already satisfied: stopit>=1.1.2 in /usr/local/lib/python3.6/dist-packages (from pewanalytics) (1.1.2)\n",
            "Requirement already satisfied: unicode>=2.7 in /usr/local/lib/python3.6/dist-packages (from pewanalytics) (2.7)\n",
            "Requirement already satisfied: rapidfuzz>=0.7.12; python_version >= \"3.0\" in /usr/local/lib/python3.6/dist-packages (from pewanalytics) (0.13.0)\n",
            "Requirement already satisfied: beautifulsoup4>=4.5.3 in /usr/local/lib/python3.6/dist-packages (from pewanalytics) (4.6.3)\n",
            "Requirement already satisfied: python-dateutil>=2.6.0 in /usr/local/lib/python3.6/dist-packages (from pewanalytics) (2.8.1)\n",
            "Requirement already satisfied: sphinx-rtd-theme>=0.4.3 in /usr/local/lib/python3.6/dist-packages (from pewanalytics) (0.5.0)\n",
            "Requirement already satisfied: six>=1.14.0 in /usr/local/lib/python3.6/dist-packages (from pewanalytics) (1.15.0)\n",
            "Requirement already satisfied: lxml>=4.4.1 in /usr/local/lib/python3.6/dist-packages (from pewanalytics) (4.6.1)\n",
            "Requirement already satisfied: tqdm>=4.11.2 in /usr/local/lib/python3.6/dist-packages (from pewanalytics) (4.41.1)\n",
            "Requirement already satisfied: pycparser>=2.20 in /usr/local/lib/python3.6/dist-packages (from pewanalytics) (2.20)\n",
            "Requirement already satisfied: boto3>=1.4.4 in /usr/local/lib/python3.6/dist-packages (from pewanalytics) (1.16.19)\n",
            "Requirement already satisfied: numpy>=1.16.0; python_version >= \"3.0\" in /usr/local/lib/python3.6/dist-packages (from pewanalytics) (1.18.5)\n",
            "Requirement already satisfied: mca>=1.0.3 in /usr/local/lib/python3.6/dist-packages (from pewanalytics) (1.0.3)\n",
            "Requirement already satisfied: xlrd>=1.2.0 in /usr/local/lib/python3.6/dist-packages (from pewanalytics) (1.2.0)\n",
            "Requirement already satisfied: corextopic>=1.0.5 in /usr/local/lib/python3.6/dist-packages (from pewanalytics) (1.0.6)\n",
            "Requirement already satisfied: hdbscan>=0.8.18 in /usr/local/lib/python3.6/dist-packages (from pewanalytics) (0.8.26)\n",
            "Requirement already satisfied: simplejson>=3.10.0 in /usr/local/lib/python3.6/dist-packages (from pewanalytics) (3.17.2)\n",
            "Requirement already satisfied: autodocsumm>=0.1.13 in /usr/local/lib/python3.6/dist-packages (from pewanalytics) (0.2.1)\n",
            "Requirement already satisfied: scandir>=1.5 in /usr/local/lib/python3.6/dist-packages (from pewanalytics) (1.10.0)\n",
            "Requirement already satisfied: matplotlib>=3.1.1; python_version >= \"3.0\" in /usr/local/lib/python3.6/dist-packages (from pewanalytics) (3.2.2)\n",
            "Requirement already satisfied: pewtils@ git+ssh://git@github.com/pewresearch/pewtils.git#egg=pewtils from git+ssh://****@github.com/pewresearch/pewtils.git#egg=pewtils in /usr/local/lib/python3.6/dist-packages (from pewanalytics) (1.0.0)\n",
            "Requirement already satisfied: cython>=0.25.2 in /usr/local/lib/python3.6/dist-packages (from pewanalytics) (0.29.21)\n",
            "Requirement already satisfied: setuptools in /usr/local/lib/python3.6/dist-packages (from python-levenshtein>=0.12.0->pewanalytics) (50.3.2)\n",
            "Requirement already satisfied: patsy>=0.4.0 in /usr/local/lib/python3.6/dist-packages (from statsmodels>=0.10.1->pewanalytics) (0.5.1)\n",
            "Requirement already satisfied: blis<0.5.0,>=0.4.0 in /usr/local/lib/python3.6/dist-packages (from spacy>=2.2.3->pewanalytics) (0.4.1)\n",
            "Requirement already satisfied: wasabi<1.1.0,>=0.4.0 in /usr/local/lib/python3.6/dist-packages (from spacy>=2.2.3->pewanalytics) (0.8.0)\n",
            "Requirement already satisfied: catalogue<1.1.0,>=0.0.7 in /usr/local/lib/python3.6/dist-packages (from spacy>=2.2.3->pewanalytics) (1.0.0)\n",
            "Requirement already satisfied: thinc==7.4.0 in /usr/local/lib/python3.6/dist-packages (from spacy>=2.2.3->pewanalytics) (7.4.0)\n",
            "Requirement already satisfied: murmurhash<1.1.0,>=0.28.0 in /usr/local/lib/python3.6/dist-packages (from spacy>=2.2.3->pewanalytics) (1.0.3)\n",
            "Requirement already satisfied: cymem<2.1.0,>=2.0.2 in /usr/local/lib/python3.6/dist-packages (from spacy>=2.2.3->pewanalytics) (2.0.4)\n",
            "Requirement already satisfied: srsly<1.1.0,>=1.0.2 in /usr/local/lib/python3.6/dist-packages (from spacy>=2.2.3->pewanalytics) (1.0.2)\n",
            "Requirement already satisfied: plac<1.2.0,>=0.9.6 in /usr/local/lib/python3.6/dist-packages (from spacy>=2.2.3->pewanalytics) (1.1.3)\n",
            "Requirement already satisfied: preshed<3.1.0,>=3.0.2 in /usr/local/lib/python3.6/dist-packages (from spacy>=2.2.3->pewanalytics) (3.0.2)\n",
            "Requirement already satisfied: smart-open>=1.8.1 in /usr/local/lib/python3.6/dist-packages (from gensim>=3.8.1->pewanalytics) (3.0.0)\n",
            "Requirement already satisfied: urllib3!=1.25.0,!=1.25.1,<1.26,>=1.21.1 in /usr/local/lib/python3.6/dist-packages (from requests>=2.13.0->pewanalytics) (1.24.3)\n",
            "Requirement already satisfied: certifi>=2017.4.17 in /usr/local/lib/python3.6/dist-packages (from requests>=2.13.0->pewanalytics) (2020.6.20)\n",
            "Requirement already satisfied: idna<3,>=2.5 in /usr/local/lib/python3.6/dist-packages (from requests>=2.13.0->pewanalytics) (2.10)\n",
            "Requirement already satisfied: requests-file>=1.4 in /usr/local/lib/python3.6/dist-packages (from tldextract>=2.2.1->pewanalytics) (1.5.1)\n",
            "Requirement already satisfied: filelock>=3.0.8 in /usr/local/lib/python3.6/dist-packages (from tldextract>=2.2.1->pewanalytics) (3.0.12)\n",
            "Requirement already satisfied: sphinx in /usr/local/lib/python3.6/dist-packages (from sphinx-rtd-theme>=0.4.3->pewanalytics) (3.3.1)\n",
            "Requirement already satisfied: jmespath<1.0.0,>=0.7.1 in /usr/local/lib/python3.6/dist-packages (from boto3>=1.4.4->pewanalytics) (0.10.0)\n",
            "Requirement already satisfied: s3transfer<0.4.0,>=0.3.0 in /usr/local/lib/python3.6/dist-packages (from boto3>=1.4.4->pewanalytics) (0.3.3)\n",
            "Requirement already satisfied: botocore<1.20.0,>=1.19.19 in /usr/local/lib/python3.6/dist-packages (from boto3>=1.4.4->pewanalytics) (1.19.19)\n",
            "Requirement already satisfied: scikit-learn>=0.17 in /usr/local/lib/python3.6/dist-packages (from hdbscan>=0.8.18->pewanalytics) (0.22.2.post1)\n",
            "Requirement already satisfied: joblib in /usr/local/lib/python3.6/dist-packages (from hdbscan>=0.8.18->pewanalytics) (0.17.0)\n",
            "Requirement already satisfied: pyparsing!=2.0.4,!=2.1.2,!=2.1.6,>=2.0.1 in /usr/local/lib/python3.6/dist-packages (from matplotlib>=3.1.1; python_version >= \"3.0\"->pewanalytics) (2.4.7)\n",
            "Requirement already satisfied: kiwisolver>=1.0.1 in /usr/local/lib/python3.6/dist-packages (from matplotlib>=3.1.1; python_version >= \"3.0\"->pewanalytics) (1.3.1)\n",
            "Requirement already satisfied: cycler>=0.10 in /usr/local/lib/python3.6/dist-packages (from matplotlib>=3.1.1; python_version >= \"3.0\"->pewanalytics) (0.10.0)\n",
            "Requirement already satisfied: xlsxwriter>=1.1.8 in /usr/local/lib/python3.6/dist-packages (from pewtils@ git+ssh://git@github.com/pewresearch/pewtils.git#egg=pewtils->pewanalytics) (1.3.7)\n",
            "Requirement already satisfied: importlib-metadata>=0.20; python_version < \"3.8\" in /usr/local/lib/python3.6/dist-packages (from catalogue<1.1.0,>=0.0.7->spacy>=2.2.3->pewanalytics) (2.0.0)\n",
            "Requirement already satisfied: babel>=1.3 in /usr/local/lib/python3.6/dist-packages (from sphinx->sphinx-rtd-theme>=0.4.3->pewanalytics) (2.8.0)\n",
            "Requirement already satisfied: docutils>=0.12 in /usr/local/lib/python3.6/dist-packages (from sphinx->sphinx-rtd-theme>=0.4.3->pewanalytics) (0.16)\n",
            "Requirement already satisfied: sphinxcontrib-applehelp in /usr/local/lib/python3.6/dist-packages (from sphinx->sphinx-rtd-theme>=0.4.3->pewanalytics) (1.0.2)\n",
            "Requirement already satisfied: sphinxcontrib-htmlhelp in /usr/local/lib/python3.6/dist-packages (from sphinx->sphinx-rtd-theme>=0.4.3->pewanalytics) (1.0.3)\n",
            "Requirement already satisfied: Jinja2>=2.3 in /usr/local/lib/python3.6/dist-packages (from sphinx->sphinx-rtd-theme>=0.4.3->pewanalytics) (2.11.2)\n",
            "Requirement already satisfied: sphinxcontrib-qthelp in /usr/local/lib/python3.6/dist-packages (from sphinx->sphinx-rtd-theme>=0.4.3->pewanalytics) (1.0.3)\n",
            "Requirement already satisfied: alabaster<0.8,>=0.7 in /usr/local/lib/python3.6/dist-packages (from sphinx->sphinx-rtd-theme>=0.4.3->pewanalytics) (0.7.12)\n",
            "Requirement already satisfied: packaging in /usr/local/lib/python3.6/dist-packages (from sphinx->sphinx-rtd-theme>=0.4.3->pewanalytics) (20.4)\n",
            "Requirement already satisfied: imagesize in /usr/local/lib/python3.6/dist-packages (from sphinx->sphinx-rtd-theme>=0.4.3->pewanalytics) (1.2.0)\n",
            "Requirement already satisfied: sphinxcontrib-serializinghtml in /usr/local/lib/python3.6/dist-packages (from sphinx->sphinx-rtd-theme>=0.4.3->pewanalytics) (1.1.4)\n",
            "Requirement already satisfied: snowballstemmer>=1.1 in /usr/local/lib/python3.6/dist-packages (from sphinx->sphinx-rtd-theme>=0.4.3->pewanalytics) (2.0.0)\n",
            "Requirement already satisfied: sphinxcontrib-devhelp in /usr/local/lib/python3.6/dist-packages (from sphinx->sphinx-rtd-theme>=0.4.3->pewanalytics) (1.0.2)\n",
            "Requirement already satisfied: Pygments>=2.0 in /usr/local/lib/python3.6/dist-packages (from sphinx->sphinx-rtd-theme>=0.4.3->pewanalytics) (2.6.1)\n",
            "Requirement already satisfied: sphinxcontrib-jsmath in /usr/local/lib/python3.6/dist-packages (from sphinx->sphinx-rtd-theme>=0.4.3->pewanalytics) (1.0.1)\n",
            "Requirement already satisfied: zipp>=0.5 in /usr/local/lib/python3.6/dist-packages (from importlib-metadata>=0.20; python_version < \"3.8\"->catalogue<1.1.0,>=0.0.7->spacy>=2.2.3->pewanalytics) (3.4.0)\n",
            "Requirement already satisfied: MarkupSafe>=0.23 in /usr/local/lib/python3.6/dist-packages (from Jinja2>=2.3->sphinx->sphinx-rtd-theme>=0.4.3->pewanalytics) (1.1.1)\n"
          ],
          "name": "stdout"
        }
      ]
    },
    {
      "cell_type": "code",
      "metadata": {
        "id": "vvMfReMk0dOn"
      },
      "source": [
        "from pewanalytics.text import TextCleaner, TextDataFrame"
      ],
      "execution_count": 44,
      "outputs": []
    },
    {
      "cell_type": "code",
      "metadata": {
        "id": "03rsOxv00qKX"
      },
      "source": [
        "sample = pd.read_csv(\"https://raw.githubusercontent.com/patrickvankessel/AAPOR-Text-Analysis-2019/master/kaggle_sample.csv\")"
      ],
      "execution_count": 45,
      "outputs": []
    },
    {
      "cell_type": "code",
      "metadata": {
        "id": "GzMN8-hZ0rAo",
        "outputId": "3d5df53b-8dea-41bc-b877-225292ce106e",
        "colab": {
          "base_uri": "https://localhost:8080/"
        }
      },
      "source": [
        "cleaner = TextCleaner()\n",
        "sample['Text'] = sample['Text'].map(cleaner.clean)\n",
        "sample['Text'].head()"
      ],
      "execution_count": 46,
      "outputs": [
        {
          "output_type": "execute_result",
          "data": {
            "text/plain": [
              "0    kid said taste flavor fine lot sucker hole pla...\n",
              "1    good good favorite lundberg does_not know make...\n",
              "2    love earl grey tea tried tazo twinings earl gr...\n",
              "3    tea fruity flavored make great iced tea caffei...\n",
              "4    cat crazy snapper shrimp variety love yellow f...\n",
              "Name: Text, dtype: object"
            ]
          },
          "metadata": {
            "tags": []
          },
          "execution_count": 46
        }
      ]
    },
    {
      "cell_type": "code",
      "metadata": {
        "id": "WAMkBeFd1mUN"
      },
      "source": [
        "sample['good_score'] = sample['Score'].map(lambda x: 1 if x == 5 else 0)\n",
        "sample['was_helpful'] = ((sample['HelpfulnessNumerator'] / sample['HelpfulnessDenominator']).fillna(0.0) > .80).astype(int)"
      ],
      "execution_count": 47,
      "outputs": []
    },
    {
      "cell_type": "code",
      "metadata": {
        "id": "Dwa1smp408hd"
      },
      "source": [
        "tdf = TextDataFrame(\n",
        "  sample, \"Text\",\n",
        "  min_df=5, max_df=.9,\n",
        "  binary=True, use_idf=False, smooth_idf=False, sublinear_tf=False, norm=None\n",
        ")"
      ],
      "execution_count": 48,
      "outputs": []
    },
    {
      "cell_type": "code",
      "metadata": {
        "id": "UctpWCBG1ZAz",
        "outputId": "a48a8ab4-47eb-4434-fb4d-960fa457f319",
        "colab": {
          "base_uri": "https://localhost:8080/",
          "height": 787
        }
      },
      "source": [
        "mi = tdf.mutual_info(\"good_score\")\n",
        "mi[mi['MI1']>0].sort_values(\"MI1\", ascending=False)[['total_pos_with_term', 'total_neg_with_term']][:25]"
      ],
      "execution_count": 49,
      "outputs": [
        {
          "output_type": "execute_result",
          "data": {
            "text/html": [
              "<div>\n",
              "<style scoped>\n",
              "    .dataframe tbody tr th:only-of-type {\n",
              "        vertical-align: middle;\n",
              "    }\n",
              "\n",
              "    .dataframe tbody tr th {\n",
              "        vertical-align: top;\n",
              "    }\n",
              "\n",
              "    .dataframe thead th {\n",
              "        text-align: right;\n",
              "    }\n",
              "</style>\n",
              "<table border=\"1\" class=\"dataframe\">\n",
              "  <thead>\n",
              "    <tr style=\"text-align: right;\">\n",
              "      <th></th>\n",
              "      <th>total_pos_with_term</th>\n",
              "      <th>total_neg_with_term</th>\n",
              "    </tr>\n",
              "  </thead>\n",
              "  <tbody>\n",
              "    <tr>\n",
              "      <th>love</th>\n",
              "      <td>1830.0</td>\n",
              "      <td>506.0</td>\n",
              "    </tr>\n",
              "    <tr>\n",
              "      <th>great</th>\n",
              "      <td>1796.0</td>\n",
              "      <td>577.0</td>\n",
              "    </tr>\n",
              "    <tr>\n",
              "      <th>highly</th>\n",
              "      <td>381.0</td>\n",
              "      <td>51.0</td>\n",
              "    </tr>\n",
              "    <tr>\n",
              "      <th>best</th>\n",
              "      <td>933.0</td>\n",
              "      <td>235.0</td>\n",
              "    </tr>\n",
              "    <tr>\n",
              "      <th>favorite</th>\n",
              "      <td>608.0</td>\n",
              "      <td>145.0</td>\n",
              "    </tr>\n",
              "    <tr>\n",
              "      <th>delicious</th>\n",
              "      <td>503.0</td>\n",
              "      <td>114.0</td>\n",
              "    </tr>\n",
              "    <tr>\n",
              "      <th>perfect</th>\n",
              "      <td>434.0</td>\n",
              "      <td>98.0</td>\n",
              "    </tr>\n",
              "    <tr>\n",
              "      <th>wonderful</th>\n",
              "      <td>332.0</td>\n",
              "      <td>69.0</td>\n",
              "    </tr>\n",
              "    <tr>\n",
              "      <th>hooked</th>\n",
              "      <td>88.0</td>\n",
              "      <td>10.0</td>\n",
              "    </tr>\n",
              "    <tr>\n",
              "      <th>awesome</th>\n",
              "      <td>152.0</td>\n",
              "      <td>25.0</td>\n",
              "    </tr>\n",
              "    <tr>\n",
              "      <th>thank</th>\n",
              "      <td>150.0</td>\n",
              "      <td>26.0</td>\n",
              "    </tr>\n",
              "    <tr>\n",
              "      <th>divine</th>\n",
              "      <td>14.0</td>\n",
              "      <td>0.0</td>\n",
              "    </tr>\n",
              "    <tr>\n",
              "      <th>addicted</th>\n",
              "      <td>52.0</td>\n",
              "      <td>5.0</td>\n",
              "    </tr>\n",
              "    <tr>\n",
              "      <th>amazed</th>\n",
              "      <td>30.0</td>\n",
              "      <td>2.0</td>\n",
              "    </tr>\n",
              "    <tr>\n",
              "      <th>holistic</th>\n",
              "      <td>22.0</td>\n",
              "      <td>1.0</td>\n",
              "    </tr>\n",
              "    <tr>\n",
              "      <th>bedtime</th>\n",
              "      <td>11.0</td>\n",
              "      <td>0.0</td>\n",
              "    </tr>\n",
              "    <tr>\n",
              "      <th>conventional</th>\n",
              "      <td>10.0</td>\n",
              "      <td>0.0</td>\n",
              "    </tr>\n",
              "    <tr>\n",
              "      <th>relieved</th>\n",
              "      <td>10.0</td>\n",
              "      <td>0.0</td>\n",
              "    </tr>\n",
              "    <tr>\n",
              "      <th>confidence</th>\n",
              "      <td>10.0</td>\n",
              "      <td>0.0</td>\n",
              "    </tr>\n",
              "    <tr>\n",
              "      <th>york</th>\n",
              "      <td>10.0</td>\n",
              "      <td>0.0</td>\n",
              "    </tr>\n",
              "    <tr>\n",
              "      <th>gained</th>\n",
              "      <td>10.0</td>\n",
              "      <td>0.0</td>\n",
              "    </tr>\n",
              "    <tr>\n",
              "      <th>gentle</th>\n",
              "      <td>20.0</td>\n",
              "      <td>1.0</td>\n",
              "    </tr>\n",
              "    <tr>\n",
              "      <th>insulin</th>\n",
              "      <td>9.0</td>\n",
              "      <td>0.0</td>\n",
              "    </tr>\n",
              "    <tr>\n",
              "      <th>collie</th>\n",
              "      <td>9.0</td>\n",
              "      <td>0.0</td>\n",
              "    </tr>\n",
              "    <tr>\n",
              "      <th>tastiest</th>\n",
              "      <td>9.0</td>\n",
              "      <td>0.0</td>\n",
              "    </tr>\n",
              "  </tbody>\n",
              "</table>\n",
              "</div>"
            ],
            "text/plain": [
              "              total_pos_with_term  total_neg_with_term\n",
              "love                       1830.0                506.0\n",
              "great                      1796.0                577.0\n",
              "highly                      381.0                 51.0\n",
              "best                        933.0                235.0\n",
              "favorite                    608.0                145.0\n",
              "delicious                   503.0                114.0\n",
              "perfect                     434.0                 98.0\n",
              "wonderful                   332.0                 69.0\n",
              "hooked                       88.0                 10.0\n",
              "awesome                     152.0                 25.0\n",
              "thank                       150.0                 26.0\n",
              "divine                       14.0                  0.0\n",
              "addicted                     52.0                  5.0\n",
              "amazed                       30.0                  2.0\n",
              "holistic                     22.0                  1.0\n",
              "bedtime                      11.0                  0.0\n",
              "conventional                 10.0                  0.0\n",
              "relieved                     10.0                  0.0\n",
              "confidence                   10.0                  0.0\n",
              "york                         10.0                  0.0\n",
              "gained                       10.0                  0.0\n",
              "gentle                       20.0                  1.0\n",
              "insulin                       9.0                  0.0\n",
              "collie                        9.0                  0.0\n",
              "tastiest                      9.0                  0.0"
            ]
          },
          "metadata": {
            "tags": []
          },
          "execution_count": 49
        }
      ]
    },
    {
      "cell_type": "code",
      "metadata": {
        "id": "rx7vkHXr1n-x",
        "outputId": "5657c822-4f65-4ffe-c395-9b1aadf5651d",
        "colab": {
          "base_uri": "https://localhost:8080/"
        }
      },
      "source": [
        "tdf.find_related_keywords(\"coffee\")"
      ],
      "execution_count": 50,
      "outputs": [
        {
          "output_type": "execute_result",
          "data": {
            "text/plain": [
              "['coffee',\n",
              " 'cup',\n",
              " 'roast',\n",
              " 'keurig',\n",
              " 'bold',\n",
              " 'starbucks',\n",
              " 'mountain',\n",
              " 'pod',\n",
              " 'brew',\n",
              " 'espresso',\n",
              " 'blend',\n",
              " 'strong',\n",
              " 'kona',\n",
              " 'french',\n",
              " 'brewer',\n",
              " 'tully',\n",
              " 'maker',\n",
              " 'filter',\n",
              " 'creamer',\n",
              " 'senseo',\n",
              " 'donut',\n",
              " 'marley',\n",
              " 'drip',\n",
              " 'illy',\n",
              " 'drinker']"
            ]
          },
          "metadata": {
            "tags": []
          },
          "execution_count": 50
        }
      ]
    }
  ]
}